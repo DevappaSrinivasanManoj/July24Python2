{
  "nbformat": 4,
  "nbformat_minor": 0,
  "metadata": {
    "colab": {
      "provenance": [],
      "authorship_tag": "ABX9TyPXes4wx1NHRlAv0eXPTkn+",
      "include_colab_link": true
    },
    "kernelspec": {
      "name": "python3",
      "display_name": "Python 3"
    },
    "language_info": {
      "name": "python"
    }
  },
  "cells": [
    {
      "cell_type": "markdown",
      "metadata": {
        "id": "view-in-github",
        "colab_type": "text"
      },
      "source": [
        "<a href=\"https://colab.research.google.com/github/SachinScaler/July24Python2/blob/main/OOPS_2_Dunders%2C_Inheritance%7CLecture.ipynb\" target=\"_parent\"><img src=\"https://colab.research.google.com/assets/colab-badge.svg\" alt=\"Open In Colab\"/></a>"
      ]
    },
    {
      "cell_type": "code",
      "execution_count": null,
      "metadata": {
        "id": "j5s7YuCnoICN"
      },
      "outputs": [],
      "source": [
        "class A:\n",
        "    pass\n"
      ]
    },
    {
      "cell_type": "code",
      "source": [],
      "metadata": {
        "id": "1bMqSwUWqLoJ"
      },
      "execution_count": null,
      "outputs": []
    },
    {
      "cell_type": "code",
      "source": [
        "class BankAccount:\n",
        "\n",
        "    def __init__(self, acc_no, amount):\n",
        "        self.acc_no = acc_no\n",
        "        self.amount = amount\n",
        "\n",
        "    def checkBalance(self):\n",
        "        return self.amount\n",
        "\n",
        "ac1 = BankAccount(100, 10000)\n",
        "ac1.checkBalance()"
      ],
      "metadata": {
        "id": "Q--biWj6rcPm",
        "colab": {
          "base_uri": "https://localhost:8080/"
        },
        "outputId": "a72feef6-6226-4922-a0b6-bc36e0dad49f"
      },
      "execution_count": null,
      "outputs": [
        {
          "output_type": "execute_result",
          "data": {
            "text/plain": [
              "10000"
            ]
          },
          "metadata": {},
          "execution_count": 14
        }
      ]
    },
    {
      "cell_type": "code",
      "source": [
        "ac2 = BankAccount(101, 99)\n",
        "ac2.checkBalance()"
      ],
      "metadata": {
        "colab": {
          "base_uri": "https://localhost:8080/",
          "height": 35
        },
        "id": "GLOeWOOEjvam",
        "outputId": "db9c3534-2188-476a-eb1e-9f75ece7b129"
      },
      "execution_count": null,
      "outputs": [
        {
          "output_type": "execute_result",
          "data": {
            "text/plain": [
              "'101 99'"
            ],
            "application/vnd.google.colaboratory.intrinsic+json": {
              "type": "string"
            }
          },
          "metadata": {},
          "execution_count": 13
        }
      ]
    },
    {
      "cell_type": "code",
      "source": [
        "ac1.amount"
      ],
      "metadata": {
        "colab": {
          "base_uri": "https://localhost:8080/"
        },
        "id": "qEJozKWCj9jP",
        "outputId": "1f1dcceb-2c39-44e1-c723-1fdce2874c95"
      },
      "execution_count": null,
      "outputs": [
        {
          "output_type": "execute_result",
          "data": {
            "text/plain": [
              "10000"
            ]
          },
          "metadata": {},
          "execution_count": 15
        }
      ]
    },
    {
      "cell_type": "markdown",
      "source": [
        "### Try this later"
      ],
      "metadata": {
        "id": "MQl-IeY4k0Qb"
      }
    },
    {
      "cell_type": "code",
      "source": [
        "class BankAccount:\n",
        "\n",
        "    def __init__(self, acc_no, amount):\n",
        "        self\n",
        "        self.acc_no = acc_no\n",
        "        self.amount = amount\n",
        "\n",
        "    def checkBalance(self):\n",
        "        return ac1.amount\n",
        "\n",
        "ac1 = BankAccount(100, 10000)\n",
        "ac1.checkBalance()"
      ],
      "metadata": {
        "colab": {
          "base_uri": "https://localhost:8080/"
        },
        "id": "j1VCCffVkt6H",
        "outputId": "cdc280d5-c9c0-4db3-c858-9b84071a17c8"
      },
      "execution_count": null,
      "outputs": [
        {
          "output_type": "execute_result",
          "data": {
            "text/plain": [
              "10000"
            ]
          },
          "metadata": {},
          "execution_count": 16
        }
      ]
    },
    {
      "cell_type": "code",
      "source": [
        "ac2 = BankAccount(101, 9000)\n",
        "ac2.checkBalance()"
      ],
      "metadata": {
        "colab": {
          "base_uri": "https://localhost:8080/"
        },
        "id": "ku_lgpgNk7BK",
        "outputId": "264638b1-4392-4799-d986-7ae6f43686d3"
      },
      "execution_count": null,
      "outputs": [
        {
          "output_type": "execute_result",
          "data": {
            "text/plain": [
              "10000"
            ]
          },
          "metadata": {},
          "execution_count": 17
        }
      ]
    },
    {
      "cell_type": "markdown",
      "source": [
        "### Class Variable"
      ],
      "metadata": {
        "id": "AGYYXx7UmaYS"
      }
    },
    {
      "cell_type": "code",
      "source": [
        "class BankAccount:\n",
        "\n",
        "    def __init__(self, bankname , acc_no, amount):\n",
        "        self.bankname = bankname\n",
        "        self.acc_no = acc_no\n",
        "        self.amount = amount\n",
        "\n",
        "    def checkBalance(self):\n",
        "        return ac1.amount\n",
        "\n",
        "ac1 = BankAccount(\"SBI\",100, 10000)\n",
        "ac2 = BankAccount(\"SBI\",101, 999)\n",
        "ac3 = BankAccount(\"SBI\",102, 100)\n",
        "ac4 = BankAccount(\"SBI\",103, 999)"
      ],
      "metadata": {
        "id": "IySwgFYRlPOB"
      },
      "execution_count": null,
      "outputs": []
    },
    {
      "cell_type": "code",
      "source": [
        "BankAccount.bankname"
      ],
      "metadata": {
        "colab": {
          "base_uri": "https://localhost:8080/",
          "height": 141
        },
        "id": "ggNv8ojJnOml",
        "outputId": "dbcb24f8-8903-41de-88b0-e50f66d796b7"
      },
      "execution_count": null,
      "outputs": [
        {
          "output_type": "error",
          "ename": "AttributeError",
          "evalue": "type object 'BankAccount' has no attribute 'bankname'",
          "traceback": [
            "\u001b[0;31m---------------------------------------------------------------------------\u001b[0m",
            "\u001b[0;31mAttributeError\u001b[0m                            Traceback (most recent call last)",
            "\u001b[0;32m<ipython-input-26-7c7284f245aa>\u001b[0m in \u001b[0;36m<cell line: 1>\u001b[0;34m()\u001b[0m\n\u001b[0;32m----> 1\u001b[0;31m \u001b[0mBankAccount\u001b[0m\u001b[0;34m.\u001b[0m\u001b[0mbankname\u001b[0m\u001b[0;34m\u001b[0m\u001b[0;34m\u001b[0m\u001b[0m\n\u001b[0m",
            "\u001b[0;31mAttributeError\u001b[0m: type object 'BankAccount' has no attribute 'bankname'"
          ]
        }
      ]
    },
    {
      "cell_type": "code",
      "source": [
        "class BankAccount:\n",
        "    # class/static variable\n",
        "    bankname = \"SBI\"\n",
        "\n",
        "    def __init__(self, acc_no, amount):\n",
        "        self.acc_no = acc_no\n",
        "        self.amount = amount\n",
        "\n",
        "    def checkBalance(self):\n",
        "        return ac1.amount\n",
        "\n",
        "ac1 = BankAccount(100, 10000)\n",
        "ac2 = BankAccount(101, 999)\n",
        "ac3 = BankAccount(102, 100)\n",
        "ac4 = BankAccount(103, 999)"
      ],
      "metadata": {
        "id": "Khw1GBhwmkR2"
      },
      "execution_count": null,
      "outputs": []
    },
    {
      "cell_type": "code",
      "source": [
        "BankAccount.bankname"
      ],
      "metadata": {
        "colab": {
          "base_uri": "https://localhost:8080/",
          "height": 35
        },
        "id": "bjsKdqEmnB1W",
        "outputId": "d31ae6bf-aecf-4cee-8a62-33b7d72c7bb4"
      },
      "execution_count": null,
      "outputs": [
        {
          "output_type": "execute_result",
          "data": {
            "text/plain": [
              "'SBI'"
            ],
            "application/vnd.google.colaboratory.intrinsic+json": {
              "type": "string"
            }
          },
          "metadata": {},
          "execution_count": 28
        }
      ]
    },
    {
      "cell_type": "code",
      "source": [
        "ac1.bankname"
      ],
      "metadata": {
        "colab": {
          "base_uri": "https://localhost:8080/",
          "height": 35
        },
        "id": "b2olrsvinItS",
        "outputId": "59684d4c-4db5-417c-a847-98dc8b42dd67"
      },
      "execution_count": null,
      "outputs": [
        {
          "output_type": "execute_result",
          "data": {
            "text/plain": [
              "'SBI'"
            ],
            "application/vnd.google.colaboratory.intrinsic+json": {
              "type": "string"
            }
          },
          "metadata": {},
          "execution_count": 29
        }
      ]
    },
    {
      "cell_type": "code",
      "source": [
        "print(id(BankAccount.bankname))\n",
        "print(id(ac1.bankname))\n",
        "print(id(ac2.bankname))"
      ],
      "metadata": {
        "colab": {
          "base_uri": "https://localhost:8080/"
        },
        "id": "4t9Sp3yznK5_",
        "outputId": "4ae96332-71bd-4179-89e3-993ee20d2d5d"
      },
      "execution_count": null,
      "outputs": [
        {
          "output_type": "stream",
          "name": "stdout",
          "text": [
            "135672289030768\n",
            "135672289030768\n",
            "135672289030768\n"
          ]
        }
      ]
    },
    {
      "cell_type": "code",
      "source": [
        "print(id(ac1.acc_no))\n",
        "print(id(ac2.acc_no))"
      ],
      "metadata": {
        "colab": {
          "base_uri": "https://localhost:8080/"
        },
        "id": "zqLMGz6joIyB",
        "outputId": "e354dc7c-3691-4ffd-cce7-09db8d89175c"
      },
      "execution_count": null,
      "outputs": [
        {
          "output_type": "stream",
          "name": "stdout",
          "text": [
            "135673196547408\n",
            "135673196547440\n"
          ]
        }
      ]
    },
    {
      "cell_type": "code",
      "source": [
        "# Method 1: change using ClassName\n",
        "BankAccount.bankname = \"Lunchtime Bank\""
      ],
      "metadata": {
        "id": "WUR2IPFwoYd0"
      },
      "execution_count": null,
      "outputs": []
    },
    {
      "cell_type": "code",
      "source": [
        "print(BankAccount.bankname)\n",
        "print(ac1.bankname)\n",
        "print(ac2.bankname)"
      ],
      "metadata": {
        "colab": {
          "base_uri": "https://localhost:8080/"
        },
        "id": "Y4B4taVMoqes",
        "outputId": "5d4901bd-cf4d-41e6-d7f3-01fab24456d2"
      },
      "execution_count": null,
      "outputs": [
        {
          "output_type": "stream",
          "name": "stdout",
          "text": [
            "Lunchtime Bank\n",
            "Lunchtime Bank\n",
            "Lunchtime Bank\n"
          ]
        }
      ]
    },
    {
      "cell_type": "markdown",
      "source": [
        "### EVERYTHING GETS THE UPDATE"
      ],
      "metadata": {
        "id": "PG8pVj7kqLCL"
      }
    },
    {
      "cell_type": "markdown",
      "source": [],
      "metadata": {
        "id": "WW033TsXqPIy"
      }
    },
    {
      "cell_type": "code",
      "source": [
        "# Method 2: change using InstanceName\n",
        "ac1.bankname = \"SBI\" # creates a new instance var only for ac1 \"Since the ClassVar is immutable\"\n",
        "\n",
        "print(BankAccount.bankname)\n",
        "print(ac1.bankname)\n",
        "print(ac2.bankname)"
      ],
      "metadata": {
        "colab": {
          "base_uri": "https://localhost:8080/"
        },
        "id": "3hEMCgouo77W",
        "outputId": "950c1d32-0c89-446d-8ac6-bfbddf88bc6e"
      },
      "execution_count": null,
      "outputs": [
        {
          "output_type": "stream",
          "name": "stdout",
          "text": [
            "Lunchtime Bank\n",
            "SBI\n",
            "Lunchtime Bank\n"
          ]
        }
      ]
    },
    {
      "cell_type": "markdown",
      "source": [
        "### METHOD2 Will create a new instance variable sepcific to only ac1"
      ],
      "metadata": {
        "id": "Gzfk56uwqXvm"
      }
    },
    {
      "cell_type": "markdown",
      "source": [
        "To Try: Create a classVar as List and update that using method1 as well as Method2"
      ],
      "metadata": {
        "id": "LbEmsIw9q7Lg"
      }
    },
    {
      "cell_type": "code",
      "source": [
        "class A:\n",
        "    print(\"Am I a class?\")\n",
        "\n",
        "\n",
        "A() # inst1\n",
        "obj1 = A() #inst2\n",
        "if A(): # inst3\n",
        "    print(A()) # inst4"
      ],
      "metadata": {
        "colab": {
          "base_uri": "https://localhost:8080/"
        },
        "id": "omX04zYxqVKx",
        "outputId": "7d9ab859-e60c-4343-eeb7-a8a7f6439a12"
      },
      "execution_count": null,
      "outputs": [
        {
          "output_type": "stream",
          "name": "stdout",
          "text": [
            "Am I a class?\n",
            "<__main__.A object at 0x7b64c70df9a0>\n"
          ]
        }
      ]
    },
    {
      "cell_type": "code",
      "source": [
        "class A:\n",
        "    def __init__(self):\n",
        "        print(\"Am I a class?\")\n",
        "\n",
        "A() # inst1\n",
        "obj1 = A() #inst2\n",
        "if A(): # inst3\n",
        "    print(A()) # inst4"
      ],
      "metadata": {
        "colab": {
          "base_uri": "https://localhost:8080/"
        },
        "id": "aGnX6hJPryEa",
        "outputId": "cd5bc235-0c4d-4a78-ad0a-88e6e8ed00da"
      },
      "execution_count": null,
      "outputs": [
        {
          "output_type": "stream",
          "name": "stdout",
          "text": [
            "Am I a class?\n",
            "Am I a class?\n",
            "Am I a class?\n",
            "Am I a class?\n",
            "<__main__.A object at 0x7b64c70dfe50>\n"
          ]
        }
      ]
    },
    {
      "cell_type": "code",
      "source": [
        "class BankAccount:\n",
        "    # class/static variable\n",
        "    bankname = \"SBI\"\n",
        "\n",
        "    def __init__(self, acc_no, amount):\n",
        "        self.acc_no = acc_no\n",
        "        self.amount = amount\n",
        "\n",
        "    def checkBalance(self):\n",
        "        return ac1.amount\n",
        "\n",
        "\n",
        "ac1 = BankAccount(100, 10000)\n",
        "print(ac1)"
      ],
      "metadata": {
        "colab": {
          "base_uri": "https://localhost:8080/"
        },
        "id": "yJV0L7dpsKb_",
        "outputId": "a226e156-4324-44be-e98a-94045a65cf0e"
      },
      "execution_count": null,
      "outputs": [
        {
          "output_type": "stream",
          "name": "stdout",
          "text": [
            "<__main__.BankAccount object at 0x7b64aa8939a0>\n"
          ]
        }
      ]
    },
    {
      "cell_type": "code",
      "source": [
        "ac2 = BankAccount(101, 999)"
      ],
      "metadata": {
        "id": "8hVsG682sqoO"
      },
      "execution_count": null,
      "outputs": []
    },
    {
      "cell_type": "code",
      "source": [
        "ac1 + ac2"
      ],
      "metadata": {
        "colab": {
          "base_uri": "https://localhost:8080/",
          "height": 141
        },
        "id": "l0X-MM08s28V",
        "outputId": "e43e57be-a55e-406f-d2e0-2e82b5e0732b"
      },
      "execution_count": null,
      "outputs": [
        {
          "output_type": "error",
          "ename": "TypeError",
          "evalue": "unsupported operand type(s) for +: 'BankAccount' and 'BankAccount'",
          "traceback": [
            "\u001b[0;31m---------------------------------------------------------------------------\u001b[0m",
            "\u001b[0;31mTypeError\u001b[0m                                 Traceback (most recent call last)",
            "\u001b[0;32m<ipython-input-41-c54b9f2d5a18>\u001b[0m in \u001b[0;36m<cell line: 1>\u001b[0;34m()\u001b[0m\n\u001b[0;32m----> 1\u001b[0;31m \u001b[0mac1\u001b[0m \u001b[0;34m+\u001b[0m \u001b[0mac2\u001b[0m\u001b[0;34m\u001b[0m\u001b[0;34m\u001b[0m\u001b[0m\n\u001b[0m",
            "\u001b[0;31mTypeError\u001b[0m: unsupported operand type(s) for +: 'BankAccount' and 'BankAccount'"
          ]
        }
      ]
    },
    {
      "cell_type": "code",
      "source": [
        "class BankAccount:\n",
        "    # class/static variable\n",
        "    bankname = \"SBI\"\n",
        "\n",
        "    def __init__(self, acc_no, amount):\n",
        "        self.acc_no = acc_no\n",
        "        self.amount = amount\n",
        "\n",
        "    def checkBalance(self):\n",
        "        return ac1.amount\n",
        "\n",
        "    def __str__(self):\n",
        "        output = f\"{BankAccount.bankname}\\nAcc_no: {self.acc_no}\"\n",
        "        return output\n",
        "\n",
        "    def __add__(self, obj2):\n",
        "        return self.amount + obj2.amount\n",
        "        self.__randomdunder__()\n",
        "\n",
        "    def __randomdunder__(self):\n",
        "        print(\"Hi\")\n",
        "\n",
        "ac1 = BankAccount(100, 10000)\n",
        "ac2 = BankAccount(101, 999)\n",
        "print(ac1)\n",
        "print(ac2)"
      ],
      "metadata": {
        "colab": {
          "base_uri": "https://localhost:8080/"
        },
        "id": "Lo3QtHTWs6BV",
        "outputId": "6148f285-9943-45fa-f03a-0c2389bd4b16"
      },
      "execution_count": null,
      "outputs": [
        {
          "output_type": "stream",
          "name": "stdout",
          "text": [
            "SBI\n",
            "Acc_no: 100\n",
            "SBI\n",
            "Acc_no: 101\n"
          ]
        }
      ]
    },
    {
      "cell_type": "code",
      "source": [
        "ac1.__randomdunder__()"
      ],
      "metadata": {
        "colab": {
          "base_uri": "https://localhost:8080/"
        },
        "id": "-JJU0awIwHuW",
        "outputId": "c6c2c7b3-b815-49b1-f2e9-fef03675969a"
      },
      "execution_count": null,
      "outputs": [
        {
          "output_type": "stream",
          "name": "stdout",
          "text": [
            "Hi\n"
          ]
        }
      ]
    },
    {
      "cell_type": "code",
      "source": [
        "ac1 + ac2"
      ],
      "metadata": {
        "colab": {
          "base_uri": "https://localhost:8080/"
        },
        "id": "YLQuk5b5t8i2",
        "outputId": "d9ef500b-05ec-4c4e-edd8-8f0f89c5d604"
      },
      "execution_count": null,
      "outputs": [
        {
          "output_type": "execute_result",
          "data": {
            "text/plain": [
              "10999"
            ]
          },
          "metadata": {},
          "execution_count": 47
        }
      ]
    },
    {
      "cell_type": "code",
      "source": [
        "dir(ac1)"
      ],
      "metadata": {
        "colab": {
          "base_uri": "https://localhost:8080/"
        },
        "id": "y7KFAS0cuXPh",
        "outputId": "6c0fbd16-e48d-452c-8fe1-a44feb3cb14e"
      },
      "execution_count": null,
      "outputs": [
        {
          "output_type": "execute_result",
          "data": {
            "text/plain": [
              "['__add__',\n",
              " '__class__',\n",
              " '__delattr__',\n",
              " '__dict__',\n",
              " '__dir__',\n",
              " '__doc__',\n",
              " '__eq__',\n",
              " '__format__',\n",
              " '__ge__',\n",
              " '__getattribute__',\n",
              " '__gt__',\n",
              " '__hash__',\n",
              " '__init__',\n",
              " '__init_subclass__',\n",
              " '__le__',\n",
              " '__lt__',\n",
              " '__module__',\n",
              " '__ne__',\n",
              " '__new__',\n",
              " '__reduce__',\n",
              " '__reduce_ex__',\n",
              " '__repr__',\n",
              " '__setattr__',\n",
              " '__sizeof__',\n",
              " '__str__',\n",
              " '__subclasshook__',\n",
              " '__weakref__',\n",
              " 'acc_no',\n",
              " 'amount',\n",
              " 'bankname',\n",
              " 'checkBalance']"
            ]
          },
          "metadata": {},
          "execution_count": 48
        }
      ]
    },
    {
      "cell_type": "code",
      "source": [
        "### To Try:\n",
        "### Implement\n",
        "# __eq__ --> ==\n",
        "# __gt__ --> >\n",
        "# __le__ -- <=\n",
        "\n",
        "\n",
        "### ReadAbout\n",
        "# __new__"
      ],
      "metadata": {
        "id": "S5zF86K_ujbL"
      },
      "execution_count": null,
      "outputs": []
    },
    {
      "cell_type": "code",
      "source": [
        "ac1 = BankAccount(100, 10000)\n",
        "ac2 = BankAccount(101, 10000)\n",
        "ac1 == ac2 # implement logic to check balance and return true or false for equal bal or not equal bal"
      ],
      "metadata": {
        "colab": {
          "base_uri": "https://localhost:8080/"
        },
        "id": "3lutrXIwvIAu",
        "outputId": "babbae75-91e1-46fd-9337-f72de1c6d14b"
      },
      "execution_count": null,
      "outputs": [
        {
          "output_type": "execute_result",
          "data": {
            "text/plain": [
              "False"
            ]
          },
          "metadata": {},
          "execution_count": 50
        }
      ]
    },
    {
      "cell_type": "code",
      "source": [
        "class A:\n",
        "  def __init__(self, a):\n",
        "    self.a = a\n",
        "  def __add__(self, b):\n",
        "    if isinstance(b, int):\n",
        "      return A(self.a + b) # ins3 + int\n",
        "    return A(self.a + b.a) # ins3 = ins1 + ins2\n",
        "  def __str__(self):\n",
        "    return f\"{self.a}\"\n",
        "\n",
        "one = A(1)\n",
        "two = A(2)\n",
        "\n",
        "# ins1 + ins2 + int\n",
        "print(one + two + 100)"
      ],
      "metadata": {
        "id": "Bjpw1DEKvI7m",
        "colab": {
          "base_uri": "https://localhost:8080/"
        },
        "outputId": "80a73b2c-d1d9-4939-d465-4dcafa8661e8"
      },
      "execution_count": 55,
      "outputs": [
        {
          "output_type": "stream",
          "name": "stdout",
          "text": [
            "103\n"
          ]
        }
      ]
    },
    {
      "cell_type": "markdown",
      "source": [
        "```\n",
        "step1 : ins1 + ins2\n",
        "        self + B -->  isinstance(b, int)\n",
        "\n",
        "step2: ins3 + 100\n",
        "        self + B\n",
        "\n",
        "```"
      ],
      "metadata": {
        "id": "EpHBP0jrxxkv"
      }
    },
    {
      "cell_type": "code",
      "source": [
        "class A:\n",
        "  def __init__(self, a):\n",
        "    self.a = a\n",
        "  def __add__(self, b):\n",
        "    return A(self.a + b.a) # ins3 = ins1 + ins2\n",
        "  def __str__(self):\n",
        "    return f\"{self.a}\"\n",
        "\n",
        "a1 = A(100)\n",
        "a2 = A(200)\n",
        "a1 + a2"
      ],
      "metadata": {
        "id": "7d4nEt6XxxB6"
      },
      "execution_count": null,
      "outputs": []
    },
    {
      "cell_type": "markdown",
      "source": [
        "### INHERITANCE"
      ],
      "metadata": {
        "id": "fKy19v5-00Qg"
      }
    },
    {
      "cell_type": "code",
      "source": [
        "class Parent:\n",
        "    x = 100\n",
        "\n",
        "class Child:\n",
        "    pass\n",
        "\n",
        "c1 = Child()\n",
        "c1.x"
      ],
      "metadata": {
        "colab": {
          "base_uri": "https://localhost:8080/",
          "height": 176
        },
        "id": "p96uaMF_03Cv",
        "outputId": "0a0c9fa9-640d-4bd6-f8f4-ef52c8eef4c0"
      },
      "execution_count": 56,
      "outputs": [
        {
          "output_type": "error",
          "ename": "AttributeError",
          "evalue": "'Child' object has no attribute 'x'",
          "traceback": [
            "\u001b[0;31m---------------------------------------------------------------------------\u001b[0m",
            "\u001b[0;31mAttributeError\u001b[0m                            Traceback (most recent call last)",
            "\u001b[0;32m<ipython-input-56-f9cd27d4d124>\u001b[0m in \u001b[0;36m<cell line: 8>\u001b[0;34m()\u001b[0m\n\u001b[1;32m      6\u001b[0m \u001b[0;34m\u001b[0m\u001b[0m\n\u001b[1;32m      7\u001b[0m \u001b[0mc1\u001b[0m \u001b[0;34m=\u001b[0m \u001b[0mChild\u001b[0m\u001b[0;34m(\u001b[0m\u001b[0;34m)\u001b[0m\u001b[0;34m\u001b[0m\u001b[0;34m\u001b[0m\u001b[0m\n\u001b[0;32m----> 8\u001b[0;31m \u001b[0mc1\u001b[0m\u001b[0;34m.\u001b[0m\u001b[0mx\u001b[0m\u001b[0;34m\u001b[0m\u001b[0;34m\u001b[0m\u001b[0m\n\u001b[0m",
            "\u001b[0;31mAttributeError\u001b[0m: 'Child' object has no attribute 'x'"
          ]
        }
      ]
    },
    {
      "cell_type": "code",
      "source": [
        "class Parent:\n",
        "    x = 100\n",
        "\n",
        "class Child(Parent):\n",
        "    pass\n",
        "\n",
        "c1 = Child()\n",
        "c1.x"
      ],
      "metadata": {
        "colab": {
          "base_uri": "https://localhost:8080/"
        },
        "id": "ADrSEzZP2QOE",
        "outputId": "7866ec1a-10b9-49c7-a258-ff0cfa9b3ea9"
      },
      "execution_count": 57,
      "outputs": [
        {
          "output_type": "execute_result",
          "data": {
            "text/plain": [
              "100"
            ]
          },
          "metadata": {},
          "execution_count": 57
        }
      ]
    },
    {
      "cell_type": "code",
      "source": [
        "class Parent:\n",
        "    x = 100\n",
        "\n",
        "class Child(Parent):\n",
        "    x = 99\n",
        "\n",
        "c1 = Child()\n",
        "c1.x"
      ],
      "metadata": {
        "colab": {
          "base_uri": "https://localhost:8080/"
        },
        "id": "nC-ZL2qy2T8B",
        "outputId": "e5309916-a698-4aa7-d493-c6d6f7a69d31"
      },
      "execution_count": 60,
      "outputs": [
        {
          "output_type": "execute_result",
          "data": {
            "text/plain": [
              "99"
            ]
          },
          "metadata": {},
          "execution_count": 60
        }
      ]
    },
    {
      "cell_type": "markdown",
      "source": [
        "```\n",
        "class Parent: #class Parent(object)\n",
        "    x = 100\n",
        "```"
      ],
      "metadata": {
        "id": "e9Yd_LO12rI1"
      }
    },
    {
      "cell_type": "code",
      "source": [
        "dir(Parent)"
      ],
      "metadata": {
        "colab": {
          "base_uri": "https://localhost:8080/"
        },
        "id": "MzzoQyqX2iaA",
        "outputId": "dcab4a47-976e-4fb1-ef80-2f2a897a5060"
      },
      "execution_count": 63,
      "outputs": [
        {
          "output_type": "execute_result",
          "data": {
            "text/plain": [
              "['__class__',\n",
              " '__delattr__',\n",
              " '__dict__',\n",
              " '__dir__',\n",
              " '__doc__',\n",
              " '__eq__',\n",
              " '__format__',\n",
              " '__ge__',\n",
              " '__getattribute__',\n",
              " '__gt__',\n",
              " '__hash__',\n",
              " '__init__',\n",
              " '__init_subclass__',\n",
              " '__le__',\n",
              " '__lt__',\n",
              " '__module__',\n",
              " '__ne__',\n",
              " '__new__',\n",
              " '__reduce__',\n",
              " '__reduce_ex__',\n",
              " '__repr__',\n",
              " '__setattr__',\n",
              " '__sizeof__',\n",
              " '__str__',\n",
              " '__subclasshook__',\n",
              " '__weakref__',\n",
              " 'x']"
            ]
          },
          "metadata": {},
          "execution_count": 63
        }
      ]
    },
    {
      "cell_type": "code",
      "source": [
        "class A:\n",
        "    pass\n",
        "\n",
        "dir(A)"
      ],
      "metadata": {
        "colab": {
          "base_uri": "https://localhost:8080/"
        },
        "id": "xyR95FjX2zgo",
        "outputId": "17dad286-8819-4198-9832-a8d8d73067fa"
      },
      "execution_count": 62,
      "outputs": [
        {
          "output_type": "execute_result",
          "data": {
            "text/plain": [
              "['__class__',\n",
              " '__delattr__',\n",
              " '__dict__',\n",
              " '__dir__',\n",
              " '__doc__',\n",
              " '__eq__',\n",
              " '__format__',\n",
              " '__ge__',\n",
              " '__getattribute__',\n",
              " '__gt__',\n",
              " '__hash__',\n",
              " '__init__',\n",
              " '__init_subclass__',\n",
              " '__le__',\n",
              " '__lt__',\n",
              " '__module__',\n",
              " '__ne__',\n",
              " '__new__',\n",
              " '__reduce__',\n",
              " '__reduce_ex__',\n",
              " '__repr__',\n",
              " '__setattr__',\n",
              " '__sizeof__',\n",
              " '__str__',\n",
              " '__subclasshook__',\n",
              " '__weakref__']"
            ]
          },
          "metadata": {},
          "execution_count": 62
        }
      ]
    },
    {
      "cell_type": "markdown",
      "source": [
        "### EVERY ENTITY/CLASS IN Python inherits from object"
      ],
      "metadata": {
        "id": "aOgEYfkq3zEi"
      }
    },
    {
      "cell_type": "code",
      "source": [
        "class Parent:\n",
        "  def __init__(self):\n",
        "    print(\"parent class\")\n",
        "\n",
        "class Child(Parent): # inheriting parent class\n",
        "  def __init__(self):\n",
        "    print(\"child class\")\n",
        "\n",
        "c1 = Child()"
      ],
      "metadata": {
        "colab": {
          "base_uri": "https://localhost:8080/"
        },
        "id": "l-AvoZEL3b7P",
        "outputId": "47ce3655-8fdd-4311-9918-5b36a2a694e5"
      },
      "execution_count": 66,
      "outputs": [
        {
          "output_type": "stream",
          "name": "stdout",
          "text": [
            "child class\n"
          ]
        }
      ]
    },
    {
      "cell_type": "code",
      "source": [
        "p1 = Parent()"
      ],
      "metadata": {
        "colab": {
          "base_uri": "https://localhost:8080/"
        },
        "id": "vGp8J3m-4SND",
        "outputId": "22251925-14be-4fd3-d2a2-b6f1c58a77fe"
      },
      "execution_count": 67,
      "outputs": [
        {
          "output_type": "stream",
          "name": "stdout",
          "text": [
            "parent class\n"
          ]
        }
      ]
    },
    {
      "cell_type": "code",
      "source": [
        "class Parent:\n",
        "  def __init__(self):\n",
        "    print(\"parent class\")\n",
        "\n",
        "class Child(Parent): # inheriting parent class\n",
        "  def __init__(self):\n",
        "    # method1:\n",
        "    super().__init__() # using super keyword\n",
        "    print(\"child class\")\n",
        "\n",
        "c1 = Child()"
      ],
      "metadata": {
        "colab": {
          "base_uri": "https://localhost:8080/"
        },
        "id": "G5_X_qJC4d0v",
        "outputId": "74d910c7-91e0-4afc-cf46-e8964f4717fd"
      },
      "execution_count": 71,
      "outputs": [
        {
          "output_type": "stream",
          "name": "stdout",
          "text": [
            "parent class\n",
            "child class\n"
          ]
        }
      ]
    },
    {
      "cell_type": "code",
      "source": [
        "class Parent:\n",
        "  def __init__(self):\n",
        "    print(\"parent class\")\n",
        "\n",
        "class Child(Parent): # inheriting parent class\n",
        "  def __init__(self):\n",
        "    # method2: using parent itself as pass child as self\n",
        "    Parent.__init__(self)\n",
        "    print(\"child class\")\n",
        "\n",
        "c1 = Child()"
      ],
      "metadata": {
        "colab": {
          "base_uri": "https://localhost:8080/"
        },
        "id": "GTm6nxek4urx",
        "outputId": "8fe9fc02-38d0-4aa2-f8f1-865815019b26"
      },
      "execution_count": 72,
      "outputs": [
        {
          "output_type": "stream",
          "name": "stdout",
          "text": [
            "parent class\n",
            "child class\n"
          ]
        }
      ]
    },
    {
      "cell_type": "code",
      "source": [
        "c2 = Child()"
      ],
      "metadata": {
        "colab": {
          "base_uri": "https://localhost:8080/"
        },
        "id": "7DeJR2Q544uM",
        "outputId": "344f5e79-3c6f-4b2d-a75a-1b85dc5bc80c"
      },
      "execution_count": 73,
      "outputs": [
        {
          "output_type": "stream",
          "name": "stdout",
          "text": [
            "parent class\n",
            "child class\n"
          ]
        }
      ]
    },
    {
      "cell_type": "code",
      "source": [
        "c3 = #"
      ],
      "metadata": {
        "colab": {
          "base_uri": "https://localhost:8080/"
        },
        "id": "1Bl7I18N5-OY",
        "outputId": "91297b58-d92a-4c8d-ebd8-bf1dbe676d7c"
      },
      "execution_count": 74,
      "outputs": [
        {
          "output_type": "stream",
          "name": "stdout",
          "text": [
            "parent class\n",
            "child class\n"
          ]
        }
      ]
    },
    {
      "cell_type": "markdown",
      "source": [
        "WHY???"
      ],
      "metadata": {
        "id": "Lk2gmv1k6GY6"
      }
    },
    {
      "cell_type": "code",
      "source": [
        "class ScalerMember:\n",
        "    def __init__(self, email):\n",
        "        self.email = email\n",
        "\n",
        "\n",
        "class Instructor(ScalerMember):\n",
        "    def __init__(self, email, salary):\n",
        "        self.salary = salary\n",
        "\n",
        "\n",
        "class Learner(ScalerMember):\n",
        "    def __init__(self, email, fee):\n",
        "        super().__init__(email)\n",
        "        self.fee = fee\n",
        "\n",
        "l1 = Learner(\"L1@gmail.com\", 5000)"
      ],
      "metadata": {
        "id": "2tEWgve75_W6"
      },
      "execution_count": 89,
      "outputs": []
    },
    {
      "cell_type": "code",
      "source": [
        "l1.fee"
      ],
      "metadata": {
        "colab": {
          "base_uri": "https://localhost:8080/"
        },
        "id": "pCUQ7GBE6mGI",
        "outputId": "0111e23d-da66-4e0a-eb88-78fe5446d6ea"
      },
      "execution_count": 90,
      "outputs": [
        {
          "output_type": "execute_result",
          "data": {
            "text/plain": [
              "5000"
            ]
          },
          "metadata": {},
          "execution_count": 90
        }
      ]
    },
    {
      "cell_type": "code",
      "source": [
        "l1.email"
      ],
      "metadata": {
        "colab": {
          "base_uri": "https://localhost:8080/",
          "height": 35
        },
        "id": "4HiBINRe7HSS",
        "outputId": "2b707be7-1cb4-4d91-a3bf-1c9dd4a4a34b"
      },
      "execution_count": 91,
      "outputs": [
        {
          "output_type": "execute_result",
          "data": {
            "text/plain": [
              "'L1@gmail.com'"
            ],
            "application/vnd.google.colaboratory.intrinsic+json": {
              "type": "string"
            }
          },
          "metadata": {},
          "execution_count": 91
        }
      ]
    },
    {
      "cell_type": "code",
      "source": [
        "class ScalerMember:\n",
        "    def __init__(self, name):\n",
        "        self.name = name\n",
        "\n",
        "class Learner(ScalerMember):\n",
        "    def __init__(self, name, grade):\n",
        "        super().__init__(name)\n",
        "        # super() automatically corresponds to the direct parent class\n",
        "        self.grade = grade\n",
        "\n",
        "class Staff(ScalerMember):\n",
        "    def __init__(self, name, salary):\n",
        "        super().__init__(name)\n",
        "        self.salary = salary\n",
        "\n",
        "class Instructor(Staff):\n",
        "    def __init__(self, name, salary, subject):\n",
        "        super().__init__(name, salary)\n",
        "        self.subject = subject\n",
        "\n",
        "ins = Instructor(\"SACHIN\", 10, \"GenAI\")"
      ],
      "metadata": {
        "id": "6drR8lhu7J7k"
      },
      "execution_count": 92,
      "outputs": []
    },
    {
      "cell_type": "code",
      "source": [
        "ins.name"
      ],
      "metadata": {
        "colab": {
          "base_uri": "https://localhost:8080/",
          "height": 35
        },
        "id": "zSrrBy9q9S10",
        "outputId": "64fb3b15-b102-4ccb-b06c-0a2773eb451e"
      },
      "execution_count": 94,
      "outputs": [
        {
          "output_type": "execute_result",
          "data": {
            "text/plain": [
              "'SACHIN'"
            ],
            "application/vnd.google.colaboratory.intrinsic+json": {
              "type": "string"
            }
          },
          "metadata": {},
          "execution_count": 94
        }
      ]
    },
    {
      "cell_type": "code",
      "source": [
        "ins.salary"
      ],
      "metadata": {
        "colab": {
          "base_uri": "https://localhost:8080/"
        },
        "id": "hzlj9W8v9ULm",
        "outputId": "f477dcd9-c401-4e3c-898a-2399f823ccbd"
      },
      "execution_count": 95,
      "outputs": [
        {
          "output_type": "execute_result",
          "data": {
            "text/plain": [
              "10"
            ]
          },
          "metadata": {},
          "execution_count": 95
        }
      ]
    },
    {
      "cell_type": "code",
      "source": [
        "ins.subject"
      ],
      "metadata": {
        "colab": {
          "base_uri": "https://localhost:8080/",
          "height": 35
        },
        "id": "kYJvEGQ79W00",
        "outputId": "1ce070ba-30d1-44a3-c899-6d4fa0c5ac38"
      },
      "execution_count": 96,
      "outputs": [
        {
          "output_type": "execute_result",
          "data": {
            "text/plain": [
              "'GenAI'"
            ],
            "application/vnd.google.colaboratory.intrinsic+json": {
              "type": "string"
            }
          },
          "metadata": {},
          "execution_count": 96
        }
      ]
    },
    {
      "cell_type": "markdown",
      "source": [
        "### Access Specifier"
      ],
      "metadata": {
        "id": "sQ7Rpi_b_AQD"
      }
    },
    {
      "cell_type": "code",
      "source": [
        "class BankAccount:\n",
        "    def __init__(self, acc_no, amount):\n",
        "        self.acc_no = acc_no\n",
        "        self.amount = amount\n",
        "\n",
        "    def checkBalance(self):\n",
        "        return self.amount\n",
        "\n",
        "ac1 = BankAccount(100, 10000)\n",
        "ac1.checkBalance()"
      ],
      "metadata": {
        "colab": {
          "base_uri": "https://localhost:8080/"
        },
        "id": "g-9tPrO29YmS",
        "outputId": "3f802a97-e022-41d9-8f80-98438aa1a980"
      },
      "execution_count": 97,
      "outputs": [
        {
          "output_type": "execute_result",
          "data": {
            "text/plain": [
              "10000"
            ]
          },
          "metadata": {},
          "execution_count": 97
        }
      ]
    },
    {
      "cell_type": "code",
      "source": [
        "ac1.amount"
      ],
      "metadata": {
        "colab": {
          "base_uri": "https://localhost:8080/"
        },
        "id": "MC00aMR7_GmU",
        "outputId": "ec9bd1b5-9ae9-422f-94b3-6ac2f29c332c"
      },
      "execution_count": 98,
      "outputs": [
        {
          "output_type": "execute_result",
          "data": {
            "text/plain": [
              "10000"
            ]
          },
          "metadata": {},
          "execution_count": 98
        }
      ]
    },
    {
      "cell_type": "code",
      "source": [
        "ac1.amount = 1000000000000\n"
      ],
      "metadata": {
        "id": "OakLNo5v_Km5"
      },
      "execution_count": 99,
      "outputs": []
    },
    {
      "cell_type": "code",
      "source": [
        "ac1.checkBalance()"
      ],
      "metadata": {
        "colab": {
          "base_uri": "https://localhost:8080/"
        },
        "id": "vW38NSaM_QIm",
        "outputId": "7c2c6468-906e-4885-81eb-dcb6f7f74155"
      },
      "execution_count": 100,
      "outputs": [
        {
          "output_type": "execute_result",
          "data": {
            "text/plain": [
              "1000000000000"
            ]
          },
          "metadata": {},
          "execution_count": 100
        }
      ]
    },
    {
      "cell_type": "code",
      "source": [
        "class BankAccount:\n",
        "    def __init__(self, acc_no, amount):\n",
        "        self.acc_no = acc_no\n",
        "        self.__amount = amount\n",
        "\n",
        "    def checkBalance(self):\n",
        "        return self.__amount\n",
        "\n",
        "ac1 = BankAccount(100, 10000)\n",
        "ac1.checkBalance()"
      ],
      "metadata": {
        "colab": {
          "base_uri": "https://localhost:8080/"
        },
        "id": "1LxuB4S9_XWS",
        "outputId": "74e6cf5d-73e0-4985-d24a-2a091a270920"
      },
      "execution_count": 102,
      "outputs": [
        {
          "output_type": "execute_result",
          "data": {
            "text/plain": [
              "10000"
            ]
          },
          "metadata": {},
          "execution_count": 102
        }
      ]
    },
    {
      "cell_type": "code",
      "source": [
        "ac1.amount"
      ],
      "metadata": {
        "colab": {
          "base_uri": "https://localhost:8080/",
          "height": 141
        },
        "id": "zt6t2kZn_xli",
        "outputId": "cecdef5f-a639-434b-8efe-ce9b163fc51f"
      },
      "execution_count": 103,
      "outputs": [
        {
          "output_type": "error",
          "ename": "AttributeError",
          "evalue": "'BankAccount' object has no attribute 'amount'",
          "traceback": [
            "\u001b[0;31m---------------------------------------------------------------------------\u001b[0m",
            "\u001b[0;31mAttributeError\u001b[0m                            Traceback (most recent call last)",
            "\u001b[0;32m<ipython-input-103-c1de8969023d>\u001b[0m in \u001b[0;36m<cell line: 1>\u001b[0;34m()\u001b[0m\n\u001b[0;32m----> 1\u001b[0;31m \u001b[0mac1\u001b[0m\u001b[0;34m.\u001b[0m\u001b[0mamount\u001b[0m\u001b[0;34m\u001b[0m\u001b[0;34m\u001b[0m\u001b[0m\n\u001b[0m",
            "\u001b[0;31mAttributeError\u001b[0m: 'BankAccount' object has no attribute 'amount'"
          ]
        }
      ]
    },
    {
      "cell_type": "code",
      "source": [
        "ac1.__amount"
      ],
      "metadata": {
        "colab": {
          "base_uri": "https://localhost:8080/",
          "height": 141
        },
        "id": "CHO5QTf7_3eY",
        "outputId": "23c2320f-f2f5-447f-8b37-eb768578d4d9"
      },
      "execution_count": 104,
      "outputs": [
        {
          "output_type": "error",
          "ename": "AttributeError",
          "evalue": "'BankAccount' object has no attribute '__amount'",
          "traceback": [
            "\u001b[0;31m---------------------------------------------------------------------------\u001b[0m",
            "\u001b[0;31mAttributeError\u001b[0m                            Traceback (most recent call last)",
            "\u001b[0;32m<ipython-input-104-04dd6f287876>\u001b[0m in \u001b[0;36m<cell line: 1>\u001b[0;34m()\u001b[0m\n\u001b[0;32m----> 1\u001b[0;31m \u001b[0mac1\u001b[0m\u001b[0;34m.\u001b[0m\u001b[0m__amount\u001b[0m\u001b[0;34m\u001b[0m\u001b[0;34m\u001b[0m\u001b[0m\n\u001b[0m",
            "\u001b[0;31mAttributeError\u001b[0m: 'BankAccount' object has no attribute '__amount'"
          ]
        }
      ]
    },
    {
      "cell_type": "code",
      "source": [
        "ac1.checkBalance()"
      ],
      "metadata": {
        "colab": {
          "base_uri": "https://localhost:8080/"
        },
        "id": "nlNhK_pL_499",
        "outputId": "1d34d295-754d-48b8-c26c-5dac50fb5aa3"
      },
      "execution_count": 105,
      "outputs": [
        {
          "output_type": "execute_result",
          "data": {
            "text/plain": [
              "10000"
            ]
          },
          "metadata": {},
          "execution_count": 105
        }
      ]
    },
    {
      "cell_type": "code",
      "source": [
        "ac1.__amount = 10000000000"
      ],
      "metadata": {
        "id": "CA_qinQs_9TK"
      },
      "execution_count": 106,
      "outputs": []
    },
    {
      "cell_type": "code",
      "source": [
        "ac1.checkBalance()"
      ],
      "metadata": {
        "colab": {
          "base_uri": "https://localhost:8080/"
        },
        "id": "OoUbCP4MACwX",
        "outputId": "01be6bee-0807-4b9f-9395-2f43c4ae4d14"
      },
      "execution_count": 107,
      "outputs": [
        {
          "output_type": "execute_result",
          "data": {
            "text/plain": [
              "10000"
            ]
          },
          "metadata": {},
          "execution_count": 107
        }
      ]
    },
    {
      "cell_type": "code",
      "source": [
        "class BankAccount:\n",
        "    def __init__(self, acc_no, amount):\n",
        "        self.acc_no = acc_no\n",
        "        self.__amount = amount\n",
        "\n",
        "    # getter\n",
        "    def checkBalance(self):\n",
        "        return self.__amount\n",
        "\n",
        "    # setter\n",
        "    def deposit(self, new_balance):\n",
        "        self.__amount = new_balance\n",
        "\n",
        "ac1 = BankAccount(100, 10000)\n",
        "ac1.checkBalance()"
      ],
      "metadata": {
        "colab": {
          "base_uri": "https://localhost:8080/"
        },
        "id": "8Z7sYJk5AD_g",
        "outputId": "a869d825-b556-41fa-ed31-901d42a71bdf"
      },
      "execution_count": 110,
      "outputs": [
        {
          "output_type": "execute_result",
          "data": {
            "text/plain": [
              "10000"
            ]
          },
          "metadata": {},
          "execution_count": 110
        }
      ]
    },
    {
      "cell_type": "code",
      "source": [
        "ac1.deposit(99999)\n",
        "ac1.checkBalance()"
      ],
      "metadata": {
        "colab": {
          "base_uri": "https://localhost:8080/"
        },
        "id": "JK4vuxkUATAe",
        "outputId": "8c437543-3116-4045-b82c-e51efb4fd51a"
      },
      "execution_count": 111,
      "outputs": [
        {
          "output_type": "execute_result",
          "data": {
            "text/plain": [
              "99999"
            ]
          },
          "metadata": {},
          "execution_count": 111
        }
      ]
    },
    {
      "cell_type": "code",
      "source": [
        "ac1.__amount = 13\n",
        "ac1.checkBalance()"
      ],
      "metadata": {
        "colab": {
          "base_uri": "https://localhost:8080/"
        },
        "id": "_rJta-5XAWZD",
        "outputId": "b648bd1e-2135-444f-b209-6f726086888b"
      },
      "execution_count": 113,
      "outputs": [
        {
          "output_type": "execute_result",
          "data": {
            "text/plain": [
              "99999"
            ]
          },
          "metadata": {},
          "execution_count": 113
        }
      ]
    },
    {
      "cell_type": "code",
      "source": [],
      "metadata": {
        "id": "sKQY9asyBLcm"
      },
      "execution_count": 114,
      "outputs": []
    },
    {
      "cell_type": "code",
      "source": [
        "var = 99\n",
        "class A:\n",
        "    print(var)\n",
        "    c1 = 100\n",
        "\n",
        "class B:\n",
        "    print(var)\n",
        "    c2 = 200"
      ],
      "metadata": {
        "id": "hPZrQSJaBUf6"
      },
      "execution_count": 115,
      "outputs": []
    },
    {
      "cell_type": "code",
      "source": [
        "a1=A()\n",
        "a1.c1"
      ],
      "metadata": {
        "colab": {
          "base_uri": "https://localhost:8080/"
        },
        "id": "MeXbz6TVD_FQ",
        "outputId": "9c99bf3f-2ce3-4cff-ae0a-518520e386d4"
      },
      "execution_count": 117,
      "outputs": [
        {
          "output_type": "execute_result",
          "data": {
            "text/plain": [
              "100"
            ]
          },
          "metadata": {},
          "execution_count": 117
        }
      ]
    },
    {
      "cell_type": "code",
      "source": [
        "b1 = B()\n",
        "b1.c1"
      ],
      "metadata": {
        "colab": {
          "base_uri": "https://localhost:8080/",
          "height": 158
        },
        "id": "GCfUoM6NECyP",
        "outputId": "79cac833-712e-44b1-fe95-c08360246e75"
      },
      "execution_count": 118,
      "outputs": [
        {
          "output_type": "error",
          "ename": "AttributeError",
          "evalue": "'B' object has no attribute 'c1'",
          "traceback": [
            "\u001b[0;31m---------------------------------------------------------------------------\u001b[0m",
            "\u001b[0;31mAttributeError\u001b[0m                            Traceback (most recent call last)",
            "\u001b[0;32m<ipython-input-118-764a418addf0>\u001b[0m in \u001b[0;36m<cell line: 2>\u001b[0;34m()\u001b[0m\n\u001b[1;32m      1\u001b[0m \u001b[0mb1\u001b[0m \u001b[0;34m=\u001b[0m \u001b[0mB\u001b[0m\u001b[0;34m(\u001b[0m\u001b[0;34m)\u001b[0m\u001b[0;34m\u001b[0m\u001b[0;34m\u001b[0m\u001b[0m\n\u001b[0;32m----> 2\u001b[0;31m \u001b[0mb1\u001b[0m\u001b[0;34m.\u001b[0m\u001b[0mc1\u001b[0m\u001b[0;34m\u001b[0m\u001b[0;34m\u001b[0m\u001b[0m\n\u001b[0m",
            "\u001b[0;31mAttributeError\u001b[0m: 'B' object has no attribute 'c1'"
          ]
        }
      ]
    },
    {
      "cell_type": "code",
      "source": [
        "print(var)"
      ],
      "metadata": {
        "colab": {
          "base_uri": "https://localhost:8080/"
        },
        "id": "YGmFcoa0EHYI",
        "outputId": "72aaf6e5-60ed-4767-f982-a22478bc2947"
      },
      "execution_count": 119,
      "outputs": [
        {
          "output_type": "stream",
          "name": "stdout",
          "text": [
            "99\n"
          ]
        }
      ]
    },
    {
      "cell_type": "code",
      "source": [
        "var"
      ],
      "metadata": {
        "colab": {
          "base_uri": "https://localhost:8080/"
        },
        "id": "IlY15EwQEM11",
        "outputId": "b38536a3-665d-4707-c005-65dc0659b829"
      },
      "execution_count": 120,
      "outputs": [
        {
          "output_type": "execute_result",
          "data": {
            "text/plain": [
              "99"
            ]
          },
          "metadata": {},
          "execution_count": 120
        }
      ]
    },
    {
      "cell_type": "code",
      "source": [
        "### + , <, ==, print, for"
      ],
      "metadata": {
        "id": "ACWECy8NEYlw"
      },
      "execution_count": null,
      "outputs": []
    },
    {
      "cell_type": "code",
      "source": [
        "class Student:\n",
        "    def __init__(self,roll,marks):\n",
        "        self.roll = roll\n",
        "        self.marks = marks\n",
        "    def display(self):\n",
        "        print('Roll:', self.roll,'Marks:',self.marks, end=\" \")\n",
        "\n",
        "\n",
        "student1 = Student(34,'A')\n",
        "print(student1.display())"
      ],
      "metadata": {
        "colab": {
          "base_uri": "https://localhost:8080/"
        },
        "id": "3POPPvn2Fb9F",
        "outputId": "7f6083ac-22f2-4a45-cd1c-5eae0d7426ee"
      },
      "execution_count": 123,
      "outputs": [
        {
          "output_type": "stream",
          "name": "stdout",
          "text": [
            "Roll: 34 Marks: A None\n"
          ]
        }
      ]
    },
    {
      "cell_type": "code",
      "source": [
        "student1.display()"
      ],
      "metadata": {
        "id": "Ec49ZxDWFow8"
      },
      "execution_count": null,
      "outputs": []
    },
    {
      "cell_type": "code",
      "source": [
        "class A:\n",
        "    def func1(self):\n",
        "        print(\"In Parent\")\n",
        "\n",
        "class B(A):\n",
        "\n",
        "    def __init__(self):\n",
        "        print(\"In Child\")\n",
        "\n",
        "    def func2(self):\n",
        "        super().func1()\n",
        "\n",
        "b1 = B()"
      ],
      "metadata": {
        "colab": {
          "base_uri": "https://localhost:8080/"
        },
        "id": "3Wj2LIK4GEIP",
        "outputId": "069d8bdd-d65e-4502-b3cf-07dd4c17deec"
      },
      "execution_count": 132,
      "outputs": [
        {
          "output_type": "stream",
          "name": "stdout",
          "text": [
            "In Child\n"
          ]
        }
      ]
    },
    {
      "cell_type": "code",
      "source": [
        "b1.func2()"
      ],
      "metadata": {
        "colab": {
          "base_uri": "https://localhost:8080/"
        },
        "id": "moKS-038GL6d",
        "outputId": "95d857f6-f137-46de-b7da-0c0e143e45d6"
      },
      "execution_count": 133,
      "outputs": [
        {
          "output_type": "stream",
          "name": "stdout",
          "text": [
            "In Parent\n"
          ]
        }
      ]
    },
    {
      "cell_type": "code",
      "source": [
        "def func(str1: str, str2 : str) -> None:\n",
        "    return str1 + str2\n",
        "\n",
        "func(\"sachin\", \"kaushik\")"
      ],
      "metadata": {
        "colab": {
          "base_uri": "https://localhost:8080/",
          "height": 35
        },
        "id": "j2FcMcZeHRSX",
        "outputId": "042908bb-e9b7-40ad-8ede-675aea9c9ee0"
      },
      "execution_count": 139,
      "outputs": [
        {
          "output_type": "execute_result",
          "data": {
            "text/plain": [
              "'sachinkaushik'"
            ],
            "application/vnd.google.colaboratory.intrinsic+json": {
              "type": "string"
            }
          },
          "metadata": {},
          "execution_count": 139
        }
      ]
    },
    {
      "cell_type": "code",
      "source": [
        "func(1, \"kaushik\")"
      ],
      "metadata": {
        "colab": {
          "base_uri": "https://localhost:8080/",
          "height": 245
        },
        "id": "L75w-DHiHn-t",
        "outputId": "7e1913a4-786a-47f6-8337-dc2405a2d865"
      },
      "execution_count": 140,
      "outputs": [
        {
          "output_type": "error",
          "ename": "TypeError",
          "evalue": "unsupported operand type(s) for +: 'int' and 'str'",
          "traceback": [
            "\u001b[0;31m---------------------------------------------------------------------------\u001b[0m",
            "\u001b[0;31mTypeError\u001b[0m                                 Traceback (most recent call last)",
            "\u001b[0;32m<ipython-input-140-9df005c8c9ec>\u001b[0m in \u001b[0;36m<cell line: 1>\u001b[0;34m()\u001b[0m\n\u001b[0;32m----> 1\u001b[0;31m \u001b[0mfunc\u001b[0m\u001b[0;34m(\u001b[0m\u001b[0;36m1\u001b[0m\u001b[0;34m,\u001b[0m \u001b[0;34m\"kaushik\"\u001b[0m\u001b[0;34m)\u001b[0m\u001b[0;34m\u001b[0m\u001b[0;34m\u001b[0m\u001b[0m\n\u001b[0m",
            "\u001b[0;32m<ipython-input-139-f7becca1f369>\u001b[0m in \u001b[0;36mfunc\u001b[0;34m(str1, str2)\u001b[0m\n\u001b[1;32m      1\u001b[0m \u001b[0;32mdef\u001b[0m \u001b[0mfunc\u001b[0m\u001b[0;34m(\u001b[0m\u001b[0mstr1\u001b[0m\u001b[0;34m:\u001b[0m \u001b[0mstr\u001b[0m\u001b[0;34m,\u001b[0m \u001b[0mstr2\u001b[0m \u001b[0;34m:\u001b[0m \u001b[0mstr\u001b[0m\u001b[0;34m)\u001b[0m \u001b[0;34m->\u001b[0m \u001b[0;32mNone\u001b[0m\u001b[0;34m:\u001b[0m\u001b[0;34m\u001b[0m\u001b[0;34m\u001b[0m\u001b[0m\n\u001b[0;32m----> 2\u001b[0;31m     \u001b[0;32mreturn\u001b[0m \u001b[0mstr1\u001b[0m \u001b[0;34m+\u001b[0m \u001b[0mstr2\u001b[0m\u001b[0;34m\u001b[0m\u001b[0;34m\u001b[0m\u001b[0m\n\u001b[0m\u001b[1;32m      3\u001b[0m \u001b[0;34m\u001b[0m\u001b[0m\n\u001b[1;32m      4\u001b[0m \u001b[0mfunc\u001b[0m\u001b[0;34m(\u001b[0m\u001b[0;34m\"sachin\"\u001b[0m\u001b[0;34m,\u001b[0m \u001b[0;34m\"kaushik\"\u001b[0m\u001b[0;34m)\u001b[0m\u001b[0;34m\u001b[0m\u001b[0;34m\u001b[0m\u001b[0m\n",
            "\u001b[0;31mTypeError\u001b[0m: unsupported operand type(s) for +: 'int' and 'str'"
          ]
        }
      ]
    },
    {
      "cell_type": "code",
      "source": [
        "from typing import List # type hints/ typeannotations\n",
        "\n",
        "def func(str1: str, str2 : List[List]) -> str:\n",
        "    return str1 + str2\n",
        "\n",
        "func(\"sachin\", \"kaushik\")"
      ],
      "metadata": {
        "colab": {
          "base_uri": "https://localhost:8080/",
          "height": 35
        },
        "id": "4o_P8WXvHx57",
        "outputId": "9b070ce5-c3e6-42f8-ec29-83e3a703b6cc"
      },
      "execution_count": 145,
      "outputs": [
        {
          "output_type": "execute_result",
          "data": {
            "text/plain": [
              "'sachinkaushik'"
            ],
            "application/vnd.google.colaboratory.intrinsic+json": {
              "type": "string"
            }
          },
          "metadata": {},
          "execution_count": 145
        }
      ]
    },
    {
      "cell_type": "code",
      "source": [
        "def func(str1: str, str2 : list[list]) -> None:\n",
        "    return str1 + str2\n",
        "\n",
        "func(\"sachin\", \"kaushik\")"
      ],
      "metadata": {
        "colab": {
          "base_uri": "https://localhost:8080/",
          "height": 35
        },
        "id": "rqbcjolOINPJ",
        "outputId": "8bbc82a7-ff9d-4518-c8fc-1b56bf2eb74a"
      },
      "execution_count": 144,
      "outputs": [
        {
          "output_type": "execute_result",
          "data": {
            "text/plain": [
              "'sachinkaushik'"
            ],
            "application/vnd.google.colaboratory.intrinsic+json": {
              "type": "string"
            }
          },
          "metadata": {},
          "execution_count": 144
        }
      ]
    },
    {
      "cell_type": "code",
      "source": [],
      "metadata": {
        "id": "ZgU95YL_IOp_"
      },
      "execution_count": null,
      "outputs": []
    }
  ]
}