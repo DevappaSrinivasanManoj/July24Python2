{
  "nbformat": 4,
  "nbformat_minor": 0,
  "metadata": {
    "colab": {
      "provenance": [],
      "authorship_tag": "ABX9TyOMNOLLPGHkWRLfeaPaPtHW",
      "include_colab_link": true
    },
    "kernelspec": {
      "name": "python3",
      "display_name": "Python 3"
    },
    "language_info": {
      "name": "python"
    }
  },
  "cells": [
    {
      "cell_type": "markdown",
      "metadata": {
        "id": "view-in-github",
        "colab_type": "text"
      },
      "source": [
        "<a href=\"https://colab.research.google.com/github/SachinScaler/July24Python2/blob/main/Functional_Programming_1_Basics%7CLecture.ipynb\" target=\"_parent\"><img src=\"https://colab.research.google.com/assets/colab-badge.svg\" alt=\"Open In Colab\"/></a>"
      ]
    },
    {
      "cell_type": "markdown",
      "source": [
        "Q: Given a list of Numbers, Generate a new list of squares of numbers:\n",
        "\n",
        "input:\n",
        "numbers = [1, 2, 3, 4]\n",
        "\n",
        "output:\n",
        "numbers = [1, 4, 9, 16]\n"
      ],
      "metadata": {
        "id": "IKy7Q7FlFEsY"
      }
    },
    {
      "cell_type": "code",
      "source": [
        "def square_nums(input_list): # how to do\n",
        "    for i in range(len(input_list)):\n",
        "        input_list[i] = input_list[i] * input_list[i]\n",
        "\n",
        "    return input_list\n",
        "\n",
        "ll1 = [1, 2, 3, 4]\n",
        "out = square_nums(ll1)\n",
        "print(out)"
      ],
      "metadata": {
        "colab": {
          "base_uri": "https://localhost:8080/"
        },
        "id": "AMTDpNwyHSpi",
        "outputId": "1bf94d9b-6d80-4bf8-b8b6-e524d1acf77c"
      },
      "execution_count": 1,
      "outputs": [
        {
          "output_type": "stream",
          "name": "stdout",
          "text": [
            "[1, 4, 9, 16]\n"
          ]
        }
      ]
    },
    {
      "cell_type": "code",
      "source": [
        "ll1"
      ],
      "metadata": {
        "colab": {
          "base_uri": "https://localhost:8080/"
        },
        "id": "zGUJSg-1H3hq",
        "outputId": "b36b5b99-8230-4d7e-d987-a24fae2d8ddd"
      },
      "execution_count": 2,
      "outputs": [
        {
          "output_type": "execute_result",
          "data": {
            "text/plain": [
              "[1, 4, 9, 16]"
            ]
          },
          "metadata": {},
          "execution_count": 2
        }
      ]
    },
    {
      "cell_type": "code",
      "source": [
        "out"
      ],
      "metadata": {
        "colab": {
          "base_uri": "https://localhost:8080/"
        },
        "id": "GK-BzSaoIC-w",
        "outputId": "82426098-9637-4ff6-f7b8-e46b196534ee"
      },
      "execution_count": 3,
      "outputs": [
        {
          "output_type": "execute_result",
          "data": {
            "text/plain": [
              "[1, 4, 9, 16]"
            ]
          },
          "metadata": {},
          "execution_count": 3
        }
      ]
    },
    {
      "cell_type": "code",
      "source": [
        "ll1 = [1, 2, 3, 4]\n",
        "out = list(map(lambda x: x**2, ll1)) # what to do\n",
        "print(out)"
      ],
      "metadata": {
        "colab": {
          "base_uri": "https://localhost:8080/"
        },
        "id": "A1_geh_cHxkb",
        "outputId": "fcb72df6-42c4-4949-9589-d97ded750054"
      },
      "execution_count": 4,
      "outputs": [
        {
          "output_type": "stream",
          "name": "stdout",
          "text": [
            "[1, 4, 9, 16]\n"
          ]
        }
      ]
    },
    {
      "cell_type": "code",
      "source": [
        "ll1"
      ],
      "metadata": {
        "colab": {
          "base_uri": "https://localhost:8080/"
        },
        "id": "SMr3vciSIklB",
        "outputId": "d1326bfd-67e0-4224-a6b5-4f5ac45300d5"
      },
      "execution_count": 5,
      "outputs": [
        {
          "output_type": "execute_result",
          "data": {
            "text/plain": [
              "[1, 2, 3, 4]"
            ]
          },
          "metadata": {},
          "execution_count": 5
        }
      ]
    },
    {
      "cell_type": "markdown",
      "source": [
        "Q Write a Function to take two numbers as input and return sum of the numbers"
      ],
      "metadata": {
        "id": "Gootg5dtFTyn"
      }
    },
    {
      "cell_type": "code",
      "source": [
        "sum_func = lambda x, y : x + y\n",
        "\n",
        "num1 = 4\n",
        "num2 = 6\n",
        "sum_func(num1, num2)"
      ],
      "metadata": {
        "colab": {
          "base_uri": "https://localhost:8080/"
        },
        "id": "uJ2yHOxeMJhv",
        "outputId": "9971364c-e302-4416-efa6-7fe40807fb46"
      },
      "execution_count": 8,
      "outputs": [
        {
          "output_type": "execute_result",
          "data": {
            "text/plain": [
              "10"
            ]
          },
          "metadata": {},
          "execution_count": 8
        }
      ]
    },
    {
      "cell_type": "markdown",
      "source": [
        "- Also known as Anonymous Functions"
      ],
      "metadata": {
        "id": "bWJ3VH7QM1BP"
      }
    },
    {
      "cell_type": "code",
      "source": [
        "(lambda x, y : x + y)(4, 3)"
      ],
      "metadata": {
        "colab": {
          "base_uri": "https://localhost:8080/"
        },
        "id": "OcGY3dNYM6Dm",
        "outputId": "c2aa99e2-5a8e-4974-ff95-c1a423f370e0"
      },
      "execution_count": 9,
      "outputs": [
        {
          "output_type": "execute_result",
          "data": {
            "text/plain": [
              "7"
            ]
          },
          "metadata": {},
          "execution_count": 9
        }
      ]
    },
    {
      "cell_type": "markdown",
      "source": [
        "### Modify the lambda function below to return both x+y and x-y"
      ],
      "metadata": {
        "id": "3yWOFIAkNb7U"
      }
    },
    {
      "cell_type": "code",
      "source": [
        "(lambda x, y : (x + y, x - y))(1,2)"
      ],
      "metadata": {
        "colab": {
          "base_uri": "https://localhost:8080/"
        },
        "id": "4W5RDRRRNRAc",
        "outputId": "415eb84d-2580-4dde-b07f-04337f7ffcdc"
      },
      "execution_count": 13,
      "outputs": [
        {
          "output_type": "execute_result",
          "data": {
            "text/plain": [
              "(3, -1)"
            ]
          },
          "metadata": {},
          "execution_count": 13
        }
      ]
    },
    {
      "cell_type": "code",
      "source": [
        "'''\n",
        "if condition:\n",
        "    do this\n",
        "else:\n",
        "    do that\n",
        "'''\n",
        "\n",
        "'''\n",
        "if x%2 == 0:\n",
        "    return even\n",
        "else:\n",
        "    return odd\n",
        "'''\n",
        "(lambda x: \"even\" if x%2 == 0 else \"Odd\")(5)"
      ],
      "metadata": {
        "colab": {
          "base_uri": "https://localhost:8080/",
          "height": 36
        },
        "id": "IndanflJN-cX",
        "outputId": "4462671f-4114-4bb9-aac3-cc4d6780011d"
      },
      "execution_count": 14,
      "outputs": [
        {
          "output_type": "execute_result",
          "data": {
            "text/plain": [
              "'Odd'"
            ],
            "application/vnd.google.colaboratory.intrinsic+json": {
              "type": "string"
            }
          },
          "metadata": {},
          "execution_count": 14
        }
      ]
    },
    {
      "cell_type": "code",
      "source": [],
      "metadata": {
        "id": "IN0AqyQMPRas"
      },
      "execution_count": null,
      "outputs": []
    },
    {
      "cell_type": "code",
      "source": [
        "list1 = [[1, 2],\n",
        "         [1, 1],\n",
        "         [6, -7],\n",
        "         [5, -7]]\n",
        "\n",
        "sorted(list1)"
      ],
      "metadata": {
        "colab": {
          "base_uri": "https://localhost:8080/"
        },
        "id": "_xTWQoXcPRXz",
        "outputId": "f6ca00dd-699e-42fd-b43b-b1423bc4edd2"
      },
      "execution_count": 18,
      "outputs": [
        {
          "output_type": "execute_result",
          "data": {
            "text/plain": [
              "[[1, 1], [1, 2], [5, -7], [6, -7]]"
            ]
          },
          "metadata": {},
          "execution_count": 18
        }
      ]
    },
    {
      "cell_type": "code",
      "source": [
        "sorted(list1, key = lambda x : x[1])"
      ],
      "metadata": {
        "colab": {
          "base_uri": "https://localhost:8080/"
        },
        "id": "F_wajT5oPRVN",
        "outputId": "ea34403f-f37c-430f-8853-2452b0fd4893"
      },
      "execution_count": 19,
      "outputs": [
        {
          "output_type": "execute_result",
          "data": {
            "text/plain": [
              "[[6, -7], [5, -7], [1, 1], [1, 2]]"
            ]
          },
          "metadata": {},
          "execution_count": 19
        }
      ]
    },
    {
      "cell_type": "code",
      "source": [
        "list1 = [[1,2],[1,1],[6,-7]]\n",
        "#sorted(list1)\n",
        "print(list1)\n",
        "list1 = sorted(list1, key=lambda x:x[1])\n",
        "print(list1)"
      ],
      "metadata": {
        "colab": {
          "base_uri": "https://localhost:8080/"
        },
        "id": "y3vUysh0PRSm",
        "outputId": "19902565-7275-407f-faf3-02b9e111b326"
      },
      "execution_count": 21,
      "outputs": [
        {
          "output_type": "stream",
          "name": "stdout",
          "text": [
            "[[1, 2], [1, 1], [6, -7]]\n",
            "[[6, -7], [1, 1], [1, 2]]\n"
          ]
        }
      ]
    },
    {
      "cell_type": "markdown",
      "source": [
        "Q: Sort the following list of dictionary according to Marks value:\n",
        "\n",
        "\n",
        "\n",
        "```\n",
        "Input:\n",
        "students = [\n",
        "    {\"name\": \"A\", \"marks\": 50},\n",
        "    {\"name\": \"B\", \"marks\": 100},\n",
        "    {\"name\": \"C\", \"marks\": 40},\n",
        "    {\"name\": \"D\", \"marks\": 70},\n",
        "    {\"name\": \"E\", \"marks\": 60},\n",
        "]\n",
        "```\n",
        "\n",
        "```\n",
        "Output\n",
        "[{'name': 'E', 'marks': 60},\n",
        " {'name': 'D', 'marks': 70},\n",
        " {'name': 'C', 'marks': 40},\n",
        " {'name': 'B', 'marks': 100},\n",
        " {'name': 'A', 'marks': 50}]\n"
      ],
      "metadata": {
        "id": "4GgS_90IFhEX"
      }
    },
    {
      "cell_type": "code",
      "source": [
        "students = [\n",
        "    {\"name\": \"A\", \"marks\": 50},\n",
        "    {\"name\": \"B\", \"marks\": 100},\n",
        "    {\"name\": \"C\", \"marks\": 40},\n",
        "    {\"name\": \"D\", \"marks\": 70},\n",
        "    {\"name\": \"E\", \"marks\": 60},\n",
        "]"
      ],
      "metadata": {
        "id": "VZ-S5DGcFgjD"
      },
      "execution_count": 23,
      "outputs": []
    },
    {
      "cell_type": "code",
      "source": [
        "dict1 = {\"name\": \"A\", \"marks\": 50}\n",
        "\n",
        "dict2 = {\"name\": \"B\", \"marks\": 100}\n",
        "\n",
        "dict1 > dict2"
      ],
      "metadata": {
        "colab": {
          "base_uri": "https://localhost:8080/",
          "height": 176
        },
        "id": "wVrfVoQKSMQF",
        "outputId": "7a29c8c6-7afd-4c81-e4f3-af3e419060a6"
      },
      "execution_count": 29,
      "outputs": [
        {
          "output_type": "error",
          "ename": "TypeError",
          "evalue": "'>' not supported between instances of 'dict' and 'dict'",
          "traceback": [
            "\u001b[0;31m---------------------------------------------------------------------------\u001b[0m",
            "\u001b[0;31mTypeError\u001b[0m                                 Traceback (most recent call last)",
            "\u001b[0;32m<ipython-input-29-295151e2355c>\u001b[0m in \u001b[0;36m<cell line: 5>\u001b[0;34m()\u001b[0m\n\u001b[1;32m      3\u001b[0m \u001b[0mdict2\u001b[0m \u001b[0;34m=\u001b[0m \u001b[0;34m{\u001b[0m\u001b[0;34m\"name\"\u001b[0m\u001b[0;34m:\u001b[0m \u001b[0;34m\"B\"\u001b[0m\u001b[0;34m,\u001b[0m \u001b[0;34m\"marks\"\u001b[0m\u001b[0;34m:\u001b[0m \u001b[0;36m100\u001b[0m\u001b[0;34m}\u001b[0m\u001b[0;34m\u001b[0m\u001b[0;34m\u001b[0m\u001b[0m\n\u001b[1;32m      4\u001b[0m \u001b[0;34m\u001b[0m\u001b[0m\n\u001b[0;32m----> 5\u001b[0;31m \u001b[0mdict1\u001b[0m \u001b[0;34m>\u001b[0m \u001b[0mdict2\u001b[0m\u001b[0;34m\u001b[0m\u001b[0;34m\u001b[0m\u001b[0m\n\u001b[0m",
            "\u001b[0;31mTypeError\u001b[0m: '>' not supported between instances of 'dict' and 'dict'"
          ]
        }
      ]
    },
    {
      "cell_type": "code",
      "source": [
        "dict1['marks'] > dict2['marks']"
      ],
      "metadata": {
        "colab": {
          "base_uri": "https://localhost:8080/"
        },
        "id": "Vl9ENyN4SYhm",
        "outputId": "b5257a51-71e1-4fc0-e1b2-d393541a08a9"
      },
      "execution_count": 30,
      "outputs": [
        {
          "output_type": "execute_result",
          "data": {
            "text/plain": [
              "False"
            ]
          },
          "metadata": {},
          "execution_count": 30
        }
      ]
    },
    {
      "cell_type": "code",
      "execution_count": 31,
      "metadata": {
        "colab": {
          "base_uri": "https://localhost:8080/"
        },
        "id": "nyYSGR6UFCad",
        "outputId": "6eb69828-ae78-4a57-f992-ba7daeadb8b5"
      },
      "outputs": [
        {
          "output_type": "execute_result",
          "data": {
            "text/plain": [
              "[{'name': 'C', 'marks': 40},\n",
              " {'name': 'A', 'marks': 50},\n",
              " {'name': 'E', 'marks': 60},\n",
              " {'name': 'D', 'marks': 70},\n",
              " {'name': 'B', 'marks': 100}]"
            ]
          },
          "metadata": {},
          "execution_count": 31
        }
      ],
      "source": [
        "sorted(students, key = lambda dict1: dict1['marks'])"
      ]
    },
    {
      "cell_type": "code",
      "source": [
        "list1 = [\"abc\", \"aabc\", \"abcaa\", \"abdcdea\"]\n",
        "# sort this list based on count of a"
      ],
      "metadata": {
        "id": "kB9VORz7S6bk"
      },
      "execution_count": 39,
      "outputs": []
    },
    {
      "cell_type": "code",
      "source": [
        "list2 = sorted(list1, key=(lambda x: x.count('a')), reverse = True)\n",
        "list2"
      ],
      "metadata": {
        "colab": {
          "base_uri": "https://localhost:8080/"
        },
        "id": "GajR1Yy1T65d",
        "outputId": "dda3b995-bd96-4971-aea8-84ed9491f762"
      },
      "execution_count": 43,
      "outputs": [
        {
          "output_type": "execute_result",
          "data": {
            "text/plain": [
              "['abcaa', 'aabc', 'abdcdea', 'abc']"
            ]
          },
          "metadata": {},
          "execution_count": 43
        }
      ]
    },
    {
      "cell_type": "code",
      "source": [
        "\"abc\" > \"dcb\""
      ],
      "metadata": {
        "colab": {
          "base_uri": "https://localhost:8080/"
        },
        "id": "d_sXL7AVSuQ_",
        "outputId": "092d22a8-6b3d-4e8f-cfc9-904d1df1d7d4"
      },
      "execution_count": 32,
      "outputs": [
        {
          "output_type": "execute_result",
          "data": {
            "text/plain": [
              "False"
            ]
          },
          "metadata": {},
          "execution_count": 32
        }
      ]
    },
    {
      "cell_type": "code",
      "source": [
        "list1 = [[1, 2],\n",
        "         [1, 1],\n",
        "         [6, -7],\n",
        "         [5, -7]]\n",
        "\n",
        "sorted(list1, key = lambda x: x[1])"
      ],
      "metadata": {
        "colab": {
          "base_uri": "https://localhost:8080/"
        },
        "id": "CrpvEtxwRSIO",
        "outputId": "ffaad582-203b-4f83-a154-79f342ba0311"
      },
      "execution_count": 27,
      "outputs": [
        {
          "output_type": "execute_result",
          "data": {
            "text/plain": [
              "[[6, -7], [5, -7], [1, 1], [1, 2]]"
            ]
          },
          "metadata": {},
          "execution_count": 27
        }
      ]
    },
    {
      "cell_type": "code",
      "source": [
        "### How to freeze variables\n",
        "\n",
        "\n",
        "class A:\n",
        "    def __myprivateFunc(self):\n",
        "        print(\"InPrivate\")\n",
        "    def publifunc(self):\n",
        "        self.__myprivateFunc()\n",
        "        print(\"In Public\")\n",
        "\n",
        "a = A()\n",
        "a.__myprivateFunc()"
      ],
      "metadata": {
        "colab": {
          "base_uri": "https://localhost:8080/",
          "height": 176
        },
        "id": "cPFMywOhRzyi",
        "outputId": "3a204677-16ef-4cc3-ee7f-d37336c2564e"
      },
      "execution_count": 35,
      "outputs": [
        {
          "output_type": "error",
          "ename": "AttributeError",
          "evalue": "'A' object has no attribute '__myprivateFunc'",
          "traceback": [
            "\u001b[0;31m---------------------------------------------------------------------------\u001b[0m",
            "\u001b[0;31mAttributeError\u001b[0m                            Traceback (most recent call last)",
            "\u001b[0;32m<ipython-input-35-9de3d69b38c9>\u001b[0m in \u001b[0;36m<cell line: 12>\u001b[0;34m()\u001b[0m\n\u001b[1;32m     10\u001b[0m \u001b[0;34m\u001b[0m\u001b[0m\n\u001b[1;32m     11\u001b[0m \u001b[0ma\u001b[0m \u001b[0;34m=\u001b[0m \u001b[0mA\u001b[0m\u001b[0;34m(\u001b[0m\u001b[0;34m)\u001b[0m\u001b[0;34m\u001b[0m\u001b[0;34m\u001b[0m\u001b[0m\n\u001b[0;32m---> 12\u001b[0;31m \u001b[0ma\u001b[0m\u001b[0;34m.\u001b[0m\u001b[0m__myprivateFunc\u001b[0m\u001b[0;34m(\u001b[0m\u001b[0;34m)\u001b[0m\u001b[0;34m\u001b[0m\u001b[0;34m\u001b[0m\u001b[0m\n\u001b[0m",
            "\u001b[0;31mAttributeError\u001b[0m: 'A' object has no attribute '__myprivateFunc'"
          ]
        }
      ]
    },
    {
      "cell_type": "code",
      "source": [
        "a.publifunc()"
      ],
      "metadata": {
        "colab": {
          "base_uri": "https://localhost:8080/"
        },
        "id": "wgxeSdfITmM-",
        "outputId": "d89a9899-3aac-49d7-e04e-ef0f2519e8f1"
      },
      "execution_count": 36,
      "outputs": [
        {
          "output_type": "stream",
          "name": "stdout",
          "text": [
            "InPrivate\n",
            "In Public\n"
          ]
        }
      ]
    },
    {
      "cell_type": "code",
      "source": [
        "help(sorted)"
      ],
      "metadata": {
        "colab": {
          "base_uri": "https://localhost:8080/"
        },
        "id": "GNky5xP3Tr_i",
        "outputId": "dd0b65cf-7e60-469e-a38d-d35f56d4bc7d"
      },
      "execution_count": 44,
      "outputs": [
        {
          "output_type": "stream",
          "name": "stdout",
          "text": [
            "Help on built-in function sorted in module builtins:\n",
            "\n",
            "sorted(iterable, /, *, key=None, reverse=False)\n",
            "    Return a new list containing all items from the iterable in ascending order.\n",
            "    \n",
            "    A custom key function can be supplied to customize the sort order, and the\n",
            "    reverse flag can be set to request the result in descending order.\n",
            "\n"
          ]
        }
      ]
    },
    {
      "cell_type": "code",
      "source": [
        "class Parent:\n",
        "  def __init__(self):\n",
        "    print(\"parent class\")\n",
        "\n",
        "class Child(Parent): # inheriting parent class\n",
        "  def __init__(self):\n",
        "    Parent.__init__(self)\n",
        "    print(\"child class\")\n",
        "\n",
        "c1 = Child()"
      ],
      "metadata": {
        "colab": {
          "base_uri": "https://localhost:8080/"
        },
        "id": "A5jZEZTEVmA2",
        "outputId": "2a114602-ca47-451d-aded-7aeeafbc3934"
      },
      "execution_count": 46,
      "outputs": [
        {
          "output_type": "stream",
          "name": "stdout",
          "text": [
            "parent class\n",
            "child class\n"
          ]
        }
      ]
    },
    {
      "cell_type": "code",
      "source": [
        "class Parent:\n",
        "  def __init__(self):\n",
        "    print(\"parent class\")\n",
        "\n",
        "class Child(Parent): # inheriting parent class\n",
        "  def __init__(self):\n",
        "    super().__init__() # calls immediate parents method\n",
        "    print(\"child class\")\n",
        "\n",
        "c1 = Child()"
      ],
      "metadata": {
        "colab": {
          "base_uri": "https://localhost:8080/"
        },
        "id": "CI68cULYV8VU",
        "outputId": "70cf242a-adb2-4df3-9bd7-370fac88c549"
      },
      "execution_count": 47,
      "outputs": [
        {
          "output_type": "stream",
          "name": "stdout",
          "text": [
            "parent class\n",
            "child class\n"
          ]
        }
      ]
    },
    {
      "cell_type": "code",
      "source": [
        "class Parent:\n",
        "  def __init__(self):\n",
        "    print(\"parent class\")\n",
        "\n",
        "  def hello(self):\n",
        "    print(\"Parents Hello\")\n",
        "\n",
        "class Child(Parent): # inheriting parent class\n",
        "  def __init__(self):\n",
        "    super().hello() # calls immediate parents method\n",
        "    print(\"child class\")\n",
        "\n",
        "c1 = Child()"
      ],
      "metadata": {
        "colab": {
          "base_uri": "https://localhost:8080/"
        },
        "id": "5KMsMgAJWFNN",
        "outputId": "691ee33d-9729-4d35-bd03-b7621d26ec19"
      },
      "execution_count": 48,
      "outputs": [
        {
          "output_type": "stream",
          "name": "stdout",
          "text": [
            "Parents Hello\n",
            "child class\n"
          ]
        }
      ]
    },
    {
      "cell_type": "code",
      "source": [
        "def removeDuplicates(nums: list[int]) -> int:\n",
        "    nums = list(set(nums))\n",
        "    nums.sort()\n",
        "    print(len(nums))\n",
        "    print(nums)\n",
        "    return len(nums)\n",
        "Z = [0,-1,1,1,1,2,2,3,3,4]\n",
        "removeDuplicates(Z)"
      ],
      "metadata": {
        "id": "pD2BqxayWkPU"
      },
      "execution_count": null,
      "outputs": []
    },
    {
      "cell_type": "code",
      "source": [
        "for n in range(10):\n",
        "    print(n)"
      ],
      "metadata": {
        "colab": {
          "base_uri": "https://localhost:8080/"
        },
        "id": "M7yuX0NfXwNF",
        "outputId": "361efa5d-484d-4c8f-ffcf-412956948058"
      },
      "execution_count": 51,
      "outputs": [
        {
          "output_type": "stream",
          "name": "stdout",
          "text": [
            "0\n",
            "1\n",
            "2\n",
            "3\n",
            "4\n",
            "5\n",
            "6\n",
            "7\n",
            "8\n",
            "9\n"
          ]
        }
      ]
    },
    {
      "cell_type": "code",
      "source": [
        "[n**2 for n in range(10)]"
      ],
      "metadata": {
        "colab": {
          "base_uri": "https://localhost:8080/"
        },
        "id": "0ULu8nS0X4CV",
        "outputId": "cbff7bfc-49a9-4042-dd6a-96e1741b6d50"
      },
      "execution_count": 54,
      "outputs": [
        {
          "output_type": "execute_result",
          "data": {
            "text/plain": [
              "[0, 1, 4, 9, 16, 25, 36, 49, 64, 81]"
            ]
          },
          "metadata": {},
          "execution_count": 54
        }
      ]
    },
    {
      "cell_type": "code",
      "source": [
        "list(range(10))"
      ],
      "metadata": {
        "colab": {
          "base_uri": "https://localhost:8080/"
        },
        "id": "nrYHvUIsX9Rr",
        "outputId": "f7d37cda-b54a-4020-e557-85c427af28ba"
      },
      "execution_count": 53,
      "outputs": [
        {
          "output_type": "execute_result",
          "data": {
            "text/plain": [
              "[0, 1, 2, 3, 4, 5, 6, 7, 8, 9]"
            ]
          },
          "metadata": {},
          "execution_count": 53
        }
      ]
    },
    {
      "cell_type": "code",
      "source": [],
      "metadata": {
        "id": "IGF5H9HQYCH1"
      },
      "execution_count": null,
      "outputs": []
    }
  ]
}