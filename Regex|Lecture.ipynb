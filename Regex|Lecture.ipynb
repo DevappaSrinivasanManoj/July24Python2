{
  "nbformat": 4,
  "nbformat_minor": 0,
  "metadata": {
    "colab": {
      "provenance": [],
      "authorship_tag": "ABX9TyNbC+Qwktyn/4p6gemj9ukD",
      "include_colab_link": true
    },
    "kernelspec": {
      "name": "python3",
      "display_name": "Python 3"
    },
    "language_info": {
      "name": "python"
    }
  },
  "cells": [
    {
      "cell_type": "markdown",
      "metadata": {
        "id": "view-in-github",
        "colab_type": "text"
      },
      "source": [
        "<a href=\"https://colab.research.google.com/github/SachinScaler/July24Python2/blob/main/Regex%7CLecture.ipynb\" target=\"_parent\"><img src=\"https://colab.research.google.com/assets/colab-badge.svg\" alt=\"Open In Colab\"/></a>"
      ]
    },
    {
      "cell_type": "code",
      "execution_count": 1,
      "metadata": {
        "id": "5ybnCxd5Uk2J"
      },
      "outputs": [],
      "source": [
        "demo_string = \"my number is 8586 83 6627 and pincode is 110086\""
      ]
    },
    {
      "cell_type": "code",
      "source": [
        "import re # regex in python\n",
        "\n"
      ],
      "metadata": {
        "id": "7i_mv6xhU2pV"
      },
      "execution_count": 2,
      "outputs": []
    },
    {
      "cell_type": "code",
      "source": [
        "!gdown 1sSDV5UspYZL3UUOGuiuxppSGcv1wS9ex"
      ],
      "metadata": {
        "colab": {
          "base_uri": "https://localhost:8080/"
        },
        "id": "GEH42cTiXIm4",
        "outputId": "8f3bc118-bffc-4462-eded-c3cc19e62f2b"
      },
      "execution_count": 3,
      "outputs": [
        {
          "output_type": "stream",
          "name": "stdout",
          "text": [
            "Downloading...\n",
            "From: https://drive.google.com/uc?id=1sSDV5UspYZL3UUOGuiuxppSGcv1wS9ex\n",
            "To: /content/data.txt\n",
            "\r  0% 0.00/9.33k [00:00<?, ?B/s]\r100% 9.33k/9.33k [00:00<00:00, 13.8MB/s]\n"
          ]
        }
      ]
    },
    {
      "cell_type": "code",
      "source": [],
      "metadata": {
        "id": "wEja4CiGwyIk"
      },
      "execution_count": null,
      "outputs": []
    },
    {
      "cell_type": "code",
      "source": [
        "ph1 = \"8586 83 6627\"\n",
        "ph2 = \"110086\""
      ],
      "metadata": {
        "id": "RFjFqMVrXOqB"
      },
      "execution_count": null,
      "outputs": []
    },
    {
      "cell_type": "markdown",
      "source": [
        "### Homework:\n",
        "```\n",
        "assuming: DD MM YYYY\n",
        "\"\"\"\n",
        "DOB 12 01 1995\n",
        "DOB 31-01-1995\n",
        "NOT DOB 31-01-2025\n",
        "DOB 2/1/1995\n",
        "DOB 02/01/1995\n",
        "DOB 16.11.1995\n",
        "NotDOB 16.54.1995\n",
        "\"\"\"\n",
        "```\n",
        "Extract only valid DOB Value from above string"
      ],
      "metadata": {
        "id": "Ux35CBOtnzqs"
      }
    },
    {
      "cell_type": "markdown",
      "source": [
        "### Important re functions -\n",
        "- match : Checks for a match only at the beginning of the string.\n",
        "- search : Finds out the first occurence of the pattern in data.\n",
        "- findall : Finds all the occurences of the pattern in data\n",
        "- finditer : Finds all occurrences of a pattern in a string and return an iterator that produces match objects for each match found."
      ],
      "metadata": {
        "id": "Z-Kno1fHvvhz"
      }
    },
    {
      "cell_type": "markdown",
      "source": [
        "Function to do string manipulation -\n",
        "- sub : Searches and replaces a string.\n",
        "- split : Split the text by the given regular expression pattern."
      ],
      "metadata": {
        "id": "9cvBTVOFv27f"
      }
    },
    {
      "cell_type": "code",
      "source": [
        "pattern = \"\\d{3}-\\d{3}-\\d{4}\"\n",
        "\n",
        "data = \"Hello 999-999-9999\"\n",
        "print(re.match(pattern, data))"
      ],
      "metadata": {
        "colab": {
          "base_uri": "https://localhost:8080/"
        },
        "id": "DtRtrJNpn84X",
        "outputId": "045c62b3-bc50-4024-e995-7fec5de32380"
      },
      "execution_count": 4,
      "outputs": [
        {
          "output_type": "stream",
          "name": "stdout",
          "text": [
            "None\n"
          ]
        }
      ]
    },
    {
      "cell_type": "code",
      "source": [
        "pattern = \"\\d{3}-\\d{3}-\\d{4}\"\n",
        "\n",
        "data = \"999-999-9999 heho\"\n",
        "print(re.match(pattern, data))"
      ],
      "metadata": {
        "colab": {
          "base_uri": "https://localhost:8080/"
        },
        "id": "4Wem6y1qwL_9",
        "outputId": "78c90a40-0158-4816-d641-f245858384c5"
      },
      "execution_count": 6,
      "outputs": [
        {
          "output_type": "stream",
          "name": "stdout",
          "text": [
            "<re.Match object; span=(0, 12), match='999-999-9999'>\n"
          ]
        }
      ]
    },
    {
      "cell_type": "code",
      "source": [
        "pattern = \"\\d{3}-\\d{3}-\\d{4}\"\n",
        "\n",
        "data = \"Hello 999-999-9999\"\n",
        "print(re.search(pattern, data))"
      ],
      "metadata": {
        "colab": {
          "base_uri": "https://localhost:8080/"
        },
        "id": "cL6RwWmDwQT7",
        "outputId": "954f46d9-5530-4ed7-e01d-72ec6ef3ace1"
      },
      "execution_count": 7,
      "outputs": [
        {
          "output_type": "stream",
          "name": "stdout",
          "text": [
            "<re.Match object; span=(6, 18), match='999-999-9999'>\n"
          ]
        }
      ]
    },
    {
      "cell_type": "code",
      "source": [
        "pattern = \"\\d{3}-\\d{3}-\\d{4}\"\n",
        "\n",
        "data = \"999-999-9999 heho\"\n",
        "print(re.search(pattern, data))"
      ],
      "metadata": {
        "colab": {
          "base_uri": "https://localhost:8080/"
        },
        "id": "S_oxG21iwfKA",
        "outputId": "6b64ce65-38f4-431f-9d62-27d0237bf135"
      },
      "execution_count": 8,
      "outputs": [
        {
          "output_type": "stream",
          "name": "stdout",
          "text": [
            "<re.Match object; span=(0, 12), match='999-999-9999'>\n"
          ]
        }
      ]
    },
    {
      "cell_type": "markdown",
      "source": [
        "### read file into string"
      ],
      "metadata": {
        "id": "70NZHLoAwy9q"
      }
    },
    {
      "cell_type": "code",
      "source": [
        "data = open(\"data.txt\", \"r\").read()\n",
        "print(data[:500]) # display first 500 characters"
      ],
      "metadata": {
        "colab": {
          "base_uri": "https://localhost:8080/"
        },
        "id": "fAbpevi5whZ6",
        "outputId": "2c98ea14-49ce-4940-e132-c864f50983df"
      },
      "execution_count": 9,
      "outputs": [
        {
          "output_type": "stream",
          "name": "stdout",
          "text": [
            "Dave Martin\n",
            "615-555-7164\n",
            "173 Main St., Springfield RI 55924\n",
            "davemartin@bogusemail.com\n",
            "\n",
            "Charles Harris\n",
            "800-555-5669\n",
            "969 High St., Atlantis VA 34075\n",
            "charlesharris@bogusemail.com\n",
            "\n",
            "Eric Williams\n",
            "560-555-5153\n",
            "806 1st St., Faketown AK 86847\n",
            "laurawilliams@bogusemail.com\n",
            "\n",
            "Corey Jefferson\n",
            "900-555-9340\n",
            "826 Elm St., Epicburg NE 10671\n",
            "coreyjefferson@bogusemail.com\n",
            "\n",
            "Jennifer Martin-White\n",
            "714-555-7405\n",
            "212 Cedar St., Sunnydale CT 74983\n",
            "jenniferwhite@bogusemail.com\n",
            "\n",
            "Erick Davis\n",
            "800-555-6771\n",
            "519 Washington St., \n"
          ]
        }
      ]
    },
    {
      "cell_type": "code",
      "source": [
        "pattern = \"\\d{3}-\\d{3}-\\d{4}\"\n",
        "\n",
        "output = (re.findall(pattern, data))"
      ],
      "metadata": {
        "id": "p_rYYsaIw4ek"
      },
      "execution_count": 12,
      "outputs": []
    },
    {
      "cell_type": "code",
      "source": [
        "type(output), len(output)"
      ],
      "metadata": {
        "colab": {
          "base_uri": "https://localhost:8080/"
        },
        "id": "LosEoK9dxTMc",
        "outputId": "c2d525ab-8f17-4aca-eba6-5cd5942bc2f8"
      },
      "execution_count": 15,
      "outputs": [
        {
          "output_type": "execute_result",
          "data": {
            "text/plain": [
              "(list, 100)"
            ]
          },
          "metadata": {},
          "execution_count": 15
        }
      ]
    },
    {
      "cell_type": "code",
      "source": [
        "output[:5]"
      ],
      "metadata": {
        "colab": {
          "base_uri": "https://localhost:8080/"
        },
        "id": "LPrj6Q5OxiQF",
        "outputId": "8b451a9e-0a2d-4e8e-f2f2-d7158c8f6431"
      },
      "execution_count": 16,
      "outputs": [
        {
          "output_type": "execute_result",
          "data": {
            "text/plain": [
              "['615-555-7164',\n",
              " '800-555-5669',\n",
              " '560-555-5153',\n",
              " '900-555-9340',\n",
              " '714-555-7405']"
            ]
          },
          "metadata": {},
          "execution_count": 16
        }
      ]
    },
    {
      "cell_type": "markdown",
      "source": [
        "- Finditer\n",
        "- How do make these case insensitive without chaning pattern\n",
        "- Docstring"
      ],
      "metadata": {
        "id": "cuT4Ul95xrNl"
      }
    },
    {
      "cell_type": "markdown",
      "source": [
        "Choose the function whose output can be:\n",
        "```\n",
        "<re.Match object; span=(4, 8), match=’aaaa’>\n",
        "\n",
        "a) re.search('aaaa', 'alohaaaa')\n",
        "b) re.search('aaa', 'alohaaaa')\n",
        "\n",
        "```"
      ],
      "metadata": {
        "id": "qIgKOwZsycd5"
      }
    },
    {
      "cell_type": "markdown",
      "source": [
        "What is the output of the code shown below?\n",
        "```\n",
        "x='[0-9]+'\n",
        "re.findall(x, '7 apples and 4 mangoes and 21 bananas')\n",
        "```"
      ],
      "metadata": {
        "id": "pJhmTJjSzQva"
      }
    },
    {
      "cell_type": "code",
      "source": [
        "x='[0-9]+'\n",
        "re.findall(x, '7 apples and 4 mangoes and 21 bananas')"
      ],
      "metadata": {
        "colab": {
          "base_uri": "https://localhost:8080/"
        },
        "id": "gvaMbINqxjeO",
        "outputId": "7529b379-bb53-40aa-eb96-513ca223908c"
      },
      "execution_count": 19,
      "outputs": [
        {
          "output_type": "execute_result",
          "data": {
            "text/plain": [
              "['7', '4', '21']"
            ]
          },
          "metadata": {},
          "execution_count": 19
        }
      ]
    },
    {
      "cell_type": "markdown",
      "source": [
        "### - Pattern to extract Emails"
      ],
      "metadata": {
        "id": "bO45eNcv0V0u"
      }
    },
    {
      "cell_type": "code",
      "source": [
        "re.findall(\"a+\", \"abc\")\n",
        "#this is returning 4 elements. WHY?"
      ],
      "metadata": {
        "colab": {
          "base_uri": "https://localhost:8080/"
        },
        "id": "Lpz597Xlzit3",
        "outputId": "f23c0f61-5d15-4797-8434-a4e3dbe0c452"
      },
      "execution_count": 22,
      "outputs": [
        {
          "output_type": "execute_result",
          "data": {
            "text/plain": [
              "['a']"
            ]
          },
          "metadata": {},
          "execution_count": 22
        }
      ]
    },
    {
      "cell_type": "code",
      "source": [
        "# \"a\", \"\", \"\", \"\"\n",
        "#sachin"
      ],
      "metadata": {
        "id": "BBQg1_CC0bWV"
      },
      "execution_count": null,
      "outputs": []
    },
    {
      "cell_type": "markdown",
      "source": [
        "- Numpy\n",
        "- Pandas\n",
        "- statistics"
      ],
      "metadata": {
        "id": "Sfl_4_pA1zHr"
      }
    },
    {
      "cell_type": "code",
      "source": [
        " # e = 1/1! ​+ 1/2! + 1/3! ​+......+n!1​\n",
        "import math\n",
        "result = 1\n",
        "for i in range(1,7): # o(n)\n",
        "    result += _______________#blank1 # o(n)\n",
        "    print(round(result,2))"
      ],
      "metadata": {
        "id": "MyQe1ffl2D5h"
      },
      "execution_count": null,
      "outputs": []
    },
    {
      "cell_type": "code",
      "source": [
        "import math\n",
        "\n",
        "math.factorial(2)"
      ],
      "metadata": {
        "colab": {
          "base_uri": "https://localhost:8080/"
        },
        "id": "AZkjjk8z2WRc",
        "outputId": "70dabd73-6eed-4585-874e-4fe66327af5c"
      },
      "execution_count": 26,
      "outputs": [
        {
          "output_type": "execute_result",
          "data": {
            "text/plain": [
              "2"
            ]
          },
          "metadata": {},
          "execution_count": 26
        }
      ]
    },
    {
      "cell_type": "code",
      "source": [
        "# dir(math)"
      ],
      "metadata": {
        "colab": {
          "base_uri": "https://localhost:8080/"
        },
        "id": "yPgsq-jO2XJ_",
        "outputId": "272ba098-7bb3-4293-cb49-aef7fea1cf4e"
      },
      "execution_count": 25,
      "outputs": [
        {
          "output_type": "execute_result",
          "data": {
            "text/plain": [
              "['__doc__',\n",
              " '__loader__',\n",
              " '__name__',\n",
              " '__package__',\n",
              " '__spec__',\n",
              " 'acos',\n",
              " 'acosh',\n",
              " 'asin',\n",
              " 'asinh',\n",
              " 'atan',\n",
              " 'atan2',\n",
              " 'atanh',\n",
              " 'ceil',\n",
              " 'comb',\n",
              " 'copysign',\n",
              " 'cos',\n",
              " 'cosh',\n",
              " 'degrees',\n",
              " 'dist',\n",
              " 'e',\n",
              " 'erf',\n",
              " 'erfc',\n",
              " 'exp',\n",
              " 'expm1',\n",
              " 'fabs',\n",
              " 'factorial',\n",
              " 'floor',\n",
              " 'fmod',\n",
              " 'frexp',\n",
              " 'fsum',\n",
              " 'gamma',\n",
              " 'gcd',\n",
              " 'hypot',\n",
              " 'inf',\n",
              " 'isclose',\n",
              " 'isfinite',\n",
              " 'isinf',\n",
              " 'isnan',\n",
              " 'isqrt',\n",
              " 'lcm',\n",
              " 'ldexp',\n",
              " 'lgamma',\n",
              " 'log',\n",
              " 'log10',\n",
              " 'log1p',\n",
              " 'log2',\n",
              " 'modf',\n",
              " 'nan',\n",
              " 'nextafter',\n",
              " 'perm',\n",
              " 'pi',\n",
              " 'pow',\n",
              " 'prod',\n",
              " 'radians',\n",
              " 'remainder',\n",
              " 'sin',\n",
              " 'sinh',\n",
              " 'sqrt',\n",
              " 'tan',\n",
              " 'tanh',\n",
              " 'tau',\n",
              " 'trunc',\n",
              " 'ulp']"
            ]
          },
          "metadata": {},
          "execution_count": 25
        }
      ]
    },
    {
      "cell_type": "code",
      "source": [
        "fact = 1\n",
        "num = 3\n",
        "for i in range(1,num + 1): # o(n)\n",
        "    fact = fact* i\n",
        "print(fact)"
      ],
      "metadata": {
        "colab": {
          "base_uri": "https://localhost:8080/"
        },
        "id": "kpWxB6WD2c3t",
        "outputId": "80575006-1819-4f89-fc01-6a198b38b554"
      },
      "execution_count": 29,
      "outputs": [
        {
          "output_type": "stream",
          "name": "stdout",
          "text": [
            "6\n"
          ]
        }
      ]
    },
    {
      "cell_type": "code",
      "source": [],
      "metadata": {
        "id": "67tbEqNP3bL2"
      },
      "execution_count": null,
      "outputs": []
    }
  ]
}