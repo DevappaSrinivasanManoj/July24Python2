{
  "nbformat": 4,
  "nbformat_minor": 0,
  "metadata": {
    "colab": {
      "provenance": [],
      "authorship_tag": "ABX9TyMMatHK0Q6Q8UX7rx1ByQsn",
      "include_colab_link": true
    },
    "kernelspec": {
      "name": "python3",
      "display_name": "Python 3"
    },
    "language_info": {
      "name": "python"
    }
  },
  "cells": [
    {
      "cell_type": "markdown",
      "metadata": {
        "id": "view-in-github",
        "colab_type": "text"
      },
      "source": [
        "<a href=\"https://colab.research.google.com/github/SachinScaler/July24Python2/blob/main/Basics_of_Time_%26_Space_Complexity%7CLecture.ipynb\" target=\"_parent\"><img src=\"https://colab.research.google.com/assets/colab-badge.svg\" alt=\"Open In Colab\"/></a>"
      ]
    },
    {
      "cell_type": "code",
      "execution_count": null,
      "metadata": {
        "id": "X2HXAPCIOPkS"
      },
      "outputs": [],
      "source": []
    },
    {
      "cell_type": "markdown",
      "source": [
        "### Doubt Solving Part:\n"
      ],
      "metadata": {
        "id": "XIgWPivnd4wh"
      }
    },
    {
      "cell_type": "code",
      "source": [
        "def func_div(a,b):\n",
        "try:\n",
        "    if b==0:\n",
        "        raise ZeroDivisionError(\"b is zero\")\n",
        "\n",
        "print(a/b)\n",
        "    except ZeroDivisionError as ze:# deafult must always be last except block otherwise will get failure\n",
        "print(\"this gets excecption when b is zero\",str(ze)) a=3\n",
        "b=0\n",
        "func_div(a,b)"
      ],
      "metadata": {
        "id": "yv8ekufSYziq"
      },
      "execution_count": null,
      "outputs": []
    },
    {
      "cell_type": "code",
      "source": [],
      "metadata": {
        "colab": {
          "base_uri": "https://localhost:8080/",
          "height": 124
        },
        "id": "pXrbwv7lZaZc",
        "outputId": "3177f81b-57f0-4637-dfc2-021127b2259e"
      },
      "execution_count": 1,
      "outputs": [
        {
          "output_type": "error",
          "ename": "SyntaxError",
          "evalue": "invalid decimal literal (<ipython-input-1-d874881b39ca>, line 2)",
          "traceback": [
            "\u001b[0;36m  File \u001b[0;32m\"<ipython-input-1-d874881b39ca>\"\u001b[0;36m, line \u001b[0;32m2\u001b[0m\n\u001b[0;31m    result = lambda x: list(map(lambda y:2y, x)) if isinstance(x,list) else lambda x:3x\u001b[0m\n\u001b[0m                                         ^\u001b[0m\n\u001b[0;31mSyntaxError\u001b[0m\u001b[0;31m:\u001b[0m invalid decimal literal\n"
          ]
        }
      ]
    },
    {
      "cell_type": "code",
      "source": [
        "a = [1,[2,3],4,5]\n",
        "result = lambda x: list(map(lambda y:2*y, x)) if isinstance(x, list) else lambda x: 3*x\n",
        "print(result(a))"
      ],
      "metadata": {
        "colab": {
          "base_uri": "https://localhost:8080/"
        },
        "id": "UVE-mmQbZ32T",
        "outputId": "ec93e753-c23d-4ade-9ab7-8639d0928cce"
      },
      "execution_count": 5,
      "outputs": [
        {
          "output_type": "stream",
          "name": "stdout",
          "text": [
            "[2, [2, 3, 2, 3], 8, 10]\n"
          ]
        }
      ]
    },
    {
      "cell_type": "code",
      "source": [
        "\n",
        "# result : lambda x: some logic\n",
        "# some_logic: list(map(lambda y:2*y, x)) if isinstance(x, list) else lambda x: 3*x\n",
        "\n",
        "\n",
        "# if input is list: list(map(lambda y:2*y, x))"
      ],
      "metadata": {
        "id": "lupxTX_DZtNT"
      },
      "execution_count": null,
      "outputs": []
    },
    {
      "cell_type": "code",
      "source": [
        "1* 2"
      ],
      "metadata": {
        "colab": {
          "base_uri": "https://localhost:8080/"
        },
        "id": "eHLKEBfnajIG",
        "outputId": "9b51d93b-041d-4205-8ab0-dc5bbd91a908"
      },
      "execution_count": 6,
      "outputs": [
        {
          "output_type": "execute_result",
          "data": {
            "text/plain": [
              "2"
            ]
          },
          "metadata": {},
          "execution_count": 6
        }
      ]
    },
    {
      "cell_type": "code",
      "source": [
        "[2,3] * 2"
      ],
      "metadata": {
        "colab": {
          "base_uri": "https://localhost:8080/"
        },
        "id": "Y8UKWWPwatkk",
        "outputId": "82cf54f3-7b32-44d9-f79a-2cd1f815a24c"
      },
      "execution_count": 7,
      "outputs": [
        {
          "output_type": "execute_result",
          "data": {
            "text/plain": [
              "[2, 3, 2, 3]"
            ]
          },
          "metadata": {},
          "execution_count": 7
        }
      ]
    },
    {
      "cell_type": "markdown",
      "source": [],
      "metadata": {
        "id": "Ow5OyN3laivI"
      }
    },
    {
      "cell_type": "code",
      "source": [
        "a =10\n",
        "result = lambda x: list(map(lambda y:2*y, x)) if isinstance(x, list) else lambda x: 3*x\n",
        "print(result(a)(10))"
      ],
      "metadata": {
        "colab": {
          "base_uri": "https://localhost:8080/"
        },
        "id": "Q6CVu6TGaiAb",
        "outputId": "0da5d6f8-90c5-4af6-a302-ec93e44fe10e"
      },
      "execution_count": 9,
      "outputs": [
        {
          "output_type": "stream",
          "name": "stdout",
          "text": [
            "30\n"
          ]
        }
      ]
    },
    {
      "cell_type": "code",
      "source": [
        "class A:\n",
        "    def __init__(self,type1): self.type1=type1\n",
        "\n",
        "class B(A):\n",
        "    def __init__(self,type1):\n",
        "        self.type1=type1+\"B\"\n",
        "\n",
        "class C(B):\n",
        "    def __init__(self,type1):\n",
        "        self.type1=type1+\"C\"\n",
        "\n",
        "class D(A):\n",
        "    def __init__(self,type1):\n",
        "        self.type1=type1+\"D\"\n",
        "\n",
        "class E(C, D):\n",
        "    def __init__(self,type1):\n",
        "        super().__init__(type1)\n",
        "\n",
        "\n",
        "e = E(\"hybrid\")\n",
        "# e.type1 when all the classes have the same attribute defined then show should we call the grand-grand parent"
      ],
      "metadata": {
        "id": "2d8i9AmSa2Lf"
      },
      "execution_count": null,
      "outputs": []
    }
  ]
}