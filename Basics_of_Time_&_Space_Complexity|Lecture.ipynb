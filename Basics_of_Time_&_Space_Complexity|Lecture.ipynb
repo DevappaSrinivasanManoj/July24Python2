{
  "nbformat": 4,
  "nbformat_minor": 0,
  "metadata": {
    "colab": {
      "provenance": [],
      "authorship_tag": "ABX9TyPegNYqboOKlxZ9mV04JFHO",
      "include_colab_link": true
    },
    "kernelspec": {
      "name": "python3",
      "display_name": "Python 3"
    },
    "language_info": {
      "name": "python"
    }
  },
  "cells": [
    {
      "cell_type": "markdown",
      "metadata": {
        "id": "view-in-github",
        "colab_type": "text"
      },
      "source": [
        "<a href=\"https://colab.research.google.com/github/SachinScaler/July24Python2/blob/main/Basics_of_Time_%26_Space_Complexity%7CLecture.ipynb\" target=\"_parent\"><img src=\"https://colab.research.google.com/assets/colab-badge.svg\" alt=\"Open In Colab\"/></a>"
      ]
    },
    {
      "cell_type": "code",
      "execution_count": null,
      "metadata": {
        "id": "X2HXAPCIOPkS"
      },
      "outputs": [],
      "source": [
        "def fun(N):\n",
        "  s = 0\n",
        "  for i in range(1, N+1):\n",
        "    s += i\n",
        "  return s"
      ]
    },
    {
      "cell_type": "code",
      "source": [
        "def fun(N):\n",
        "  sum = 0\n",
        "  for i in range(1, N+1):\n",
        "    sum += i # N\n",
        "\n",
        "  mul = 1\n",
        "  for i in range(1, N+1):\n",
        "    pass\n",
        "  return sum, mul\n",
        "\n",
        "# 2N + C -> Big-o -> o(n)"
      ],
      "metadata": {
        "id": "ws8UzfqSIDnu"
      },
      "execution_count": null,
      "outputs": []
    },
    {
      "cell_type": "code",
      "source": [
        "def fun(N):\n",
        "  sum = 0\n",
        "  for i in range(1, N+1, 2):\n",
        "    sum += i # N/2 +C -> o(n)"
      ],
      "metadata": {
        "id": "1aEFcRpqIDla"
      },
      "execution_count": null,
      "outputs": []
    },
    {
      "cell_type": "code",
      "source": [
        "def fun(N):\n",
        "  s = 0\n",
        "  for i in range(1, int(N**0.5)):\n",
        "    s += i\n",
        "  return s\n",
        "\n",
        "# big O --> o(n**0.5)"
      ],
      "metadata": {
        "id": "emnhNaAoIDeG"
      },
      "execution_count": null,
      "outputs": []
    },
    {
      "cell_type": "code",
      "source": [
        "def fun(N):\n",
        "  s = 0\n",
        "  for i in range(1, 101):\n",
        "    s += i\n",
        "  return s\n",
        "\n",
        "# big O --> o(1)"
      ],
      "metadata": {
        "id": "B_0CJysqIDbx"
      },
      "execution_count": null,
      "outputs": []
    },
    {
      "cell_type": "markdown",
      "source": [
        "#### Break"
      ],
      "metadata": {
        "id": "4Z-LAxagNaqS"
      }
    },
    {
      "cell_type": "code",
      "source": [
        "def fun(N):\n",
        "  i = N\n",
        "  while i >= 1:\n",
        "    i = i // 2"
      ],
      "metadata": {
        "id": "vXHln-05IDZK"
      },
      "execution_count": null,
      "outputs": []
    },
    {
      "cell_type": "code",
      "source": [
        "def fun(N):\n",
        "  i = 0\n",
        "  while i <= N:\n",
        "    i = i * 2\n",
        "# infinity"
      ],
      "metadata": {
        "id": "csXBnn7AIDW0"
      },
      "execution_count": null,
      "outputs": []
    },
    {
      "cell_type": "code",
      "source": [
        "def fun(N):\n",
        "  i = 0\n",
        "  while i <= N:\n",
        "    i = i + 2 + 1\n",
        "\n",
        "# for i in range(0, N, 2)\n",
        "\n",
        "# 0 -> 2 -> 4 ->6 ------> N/2\n",
        "\n",
        "# o(n)"
      ],
      "metadata": {
        "id": "3hG6JG4yNfyW"
      },
      "execution_count": null,
      "outputs": []
    },
    {
      "cell_type": "code",
      "source": [
        "def fun(N):\n",
        "  s = 0\n",
        "  for i in range(N):\n",
        "    for j in range(N):\n",
        "        s += j\n",
        "  return s\n",
        "\n",
        "# o(n^2)"
      ],
      "metadata": {
        "id": "PGu2r-ArNfEQ"
      },
      "execution_count": null,
      "outputs": []
    },
    {
      "cell_type": "code",
      "source": [
        "def fun(N):\n",
        "  s = 0\n",
        "  for i in range(N):\n",
        "    for j in range(0, i):\n",
        "        s += j\n",
        "  return s\n",
        "\n",
        "# o(n**2)"
      ],
      "metadata": {
        "id": "oGVMxHcZTqFX"
      },
      "execution_count": null,
      "outputs": []
    },
    {
      "cell_type": "code",
      "source": [
        "def fun(N):\n",
        "  s = 0\n",
        "  for i in range(N):\n",
        "    for j in range(1, N, N//2):\n",
        "      s += j\n",
        "  return s\n",
        "\n",
        "# o(n)"
      ],
      "metadata": {
        "id": "W2tvW3V3NfB6"
      },
      "execution_count": null,
      "outputs": []
    },
    {
      "cell_type": "code",
      "source": [
        "def fun(N, M):\n",
        "  s = 0\n",
        "  for i in range(1, N+1):\n",
        "    s += i\n",
        "  for j in range(1, M+1):\n",
        "    s += j\n",
        "  return s\n",
        "\n",
        "# o(n + m)"
      ],
      "metadata": {
        "id": "Yb9ZumGYPmik"
      },
      "execution_count": null,
      "outputs": []
    },
    {
      "cell_type": "code",
      "source": [
        "def fun(N):\n",
        "  s = 0\n",
        "  for i in range(10):\n",
        "    for j in range(N):\n",
        "      s += j\n",
        "  return s\n",
        "\n",
        "# 10 * n\n",
        "# o(n)"
      ],
      "metadata": {
        "id": "iAtwE0bQNe_t"
      },
      "execution_count": null,
      "outputs": []
    },
    {
      "cell_type": "code",
      "source": [
        "def fun(N):\n",
        "  s = 0\n",
        "  for i in range(N):\n",
        "    j = 1\n",
        "    while j <= N:\n",
        "      j = j * 2\n",
        "  return s\n",
        "#  N * log N\n",
        "# o(nlogn)"
      ],
      "metadata": {
        "id": "akyKTDzLIDUS"
      },
      "execution_count": null,
      "outputs": []
    },
    {
      "cell_type": "code",
      "source": [
        "def fun(N):\n",
        "  s = 0\n",
        "  for i in range(N):\n",
        "    for j in range(N):\n",
        "      s += j # n ** 2\n",
        "  for i in range(N):\n",
        "    s += i # n\n",
        "  return s\n",
        "# n ** 2 + n\n",
        "# o(n**2)"
      ],
      "metadata": {
        "id": "m364_PE4PFzh"
      },
      "execution_count": null,
      "outputs": []
    },
    {
      "cell_type": "markdown",
      "source": [
        "### HW:"
      ],
      "metadata": {
        "id": "5MjGxaVcXiyM"
      }
    },
    {
      "cell_type": "code",
      "source": [
        "def example_function(arr):\n",
        "    total = 0\n",
        "    for i in range(len(arr)):\n",
        "        for j in range(i + 1, len(arr)):\n",
        "          k = 1\n",
        "          while k <= len(arr):\n",
        "            total += i + j + k\n",
        "            k *= 2\n",
        "    return total\n",
        "\n",
        "# n^2*log(n)"
      ],
      "metadata": {
        "id": "Cx6QKxRpIDR4"
      },
      "execution_count": null,
      "outputs": []
    },
    {
      "cell_type": "markdown",
      "source": [
        "### Space Complexity"
      ],
      "metadata": {
        "id": "aCRacRB9XnPA"
      }
    },
    {
      "cell_type": "code",
      "source": [
        "def fun(N):\n",
        "  s = 0 # c\n",
        "  for i in range(1, N+1):\n",
        "    s += i # 0\n",
        "    a = i # c\n",
        "  return s\n",
        "\n",
        "# SC: o(1) + c"
      ],
      "metadata": {
        "id": "gxSRbUtQIDPQ"
      },
      "execution_count": null,
      "outputs": []
    },
    {
      "cell_type": "code",
      "source": [
        "def fun(N):\n",
        "  s = [] # c\n",
        "  for i in range(1, N+1):\n",
        "    s.append(i) # c + N\n",
        "  return s\n",
        "\n",
        "# SC: o(n)"
      ],
      "metadata": {
        "id": "8kwVAfWsYOMM"
      },
      "execution_count": null,
      "outputs": []
    },
    {
      "cell_type": "code",
      "source": [
        "def fun(N):\n",
        "  s = [0] * N #  N\n",
        "  for i in range(1, N+1):\n",
        "    s[i] = i # No new memory as we are just overwriting the n size list\n",
        "  return s\n",
        "\n",
        "# SC: o(n)"
      ],
      "metadata": {
        "id": "pRs32wCyYOJ2"
      },
      "execution_count": null,
      "outputs": []
    },
    {
      "cell_type": "code",
      "source": [
        "[0] * 5"
      ],
      "metadata": {
        "colab": {
          "base_uri": "https://localhost:8080/"
        },
        "id": "aIYkH3hkYOHg",
        "outputId": "21cd6d5d-3d15-4e4f-cc2e-51b7527c3b00"
      },
      "execution_count": 1,
      "outputs": [
        {
          "output_type": "execute_result",
          "data": {
            "text/plain": [
              "[0, 0, 0, 0, 0]"
            ]
          },
          "metadata": {},
          "execution_count": 1
        }
      ]
    },
    {
      "cell_type": "code",
      "source": [],
      "metadata": {
        "id": "2ND_6PsTIDMj"
      },
      "execution_count": null,
      "outputs": []
    },
    {
      "cell_type": "markdown",
      "source": [
        "### Doubt Solving Part:\n"
      ],
      "metadata": {
        "id": "XIgWPivnd4wh"
      }
    },
    {
      "cell_type": "code",
      "source": [
        "def pow(x):\n",
        "    def func(n):\n",
        "        return x ** n\n",
        "    return func\n",
        "\n",
        "\n",
        "# is this an HOF? Yes\n",
        "func2 = pow(2) # 2 ** n\n",
        "func5 = pow(5) # 5 ** n"
      ],
      "metadata": {
        "colab": {
          "base_uri": "https://localhost:8080/",
          "height": 122
        },
        "id": "prqSiSAedciw",
        "outputId": "8e1c9ed5-9a29-4bab-9f66-e1fa2a8c7bac"
      },
      "execution_count": 2,
      "outputs": [
        {
          "output_type": "execute_result",
          "data": {
            "text/plain": [
              "<function __main__.pow.<locals>.func(n)>"
            ],
            "text/html": [
              "<div style=\"max-width:800px; border: 1px solid var(--colab-border-color);\"><style>\n",
              "      pre.function-repr-contents {\n",
              "        overflow-x: auto;\n",
              "        padding: 8px 12px;\n",
              "        max-height: 500px;\n",
              "      }\n",
              "\n",
              "      pre.function-repr-contents.function-repr-contents-collapsed {\n",
              "        cursor: pointer;\n",
              "        max-height: 100px;\n",
              "      }\n",
              "    </style>\n",
              "    <pre style=\"white-space: initial; background:\n",
              "         var(--colab-secondary-surface-color); padding: 8px 12px;\n",
              "         border-bottom: 1px solid var(--colab-border-color);\"><b>pow.&lt;locals&gt;.func</b><br/>def func(n)</pre><pre class=\"function-repr-contents function-repr-contents-collapsed\" style=\"\"><a class=\"filepath\" style=\"display:none\" href=\"#\">/content/&lt;ipython-input-2-cbcd3c991252&gt;</a>&lt;no docstring&gt;</pre></div>"
            ]
          },
          "metadata": {},
          "execution_count": 2
        }
      ]
    },
    {
      "cell_type": "code",
      "source": [
        "func2(100 ) #n = 100, x = 2"
      ],
      "metadata": {
        "id": "nR8heSEgf1lM"
      },
      "execution_count": null,
      "outputs": []
    },
    {
      "cell_type": "code",
      "source": [
        "def func2(n):\n",
        "    return 2 ** n\n",
        "\n",
        "def func5(n):\n",
        "    return 5 ** n\n"
      ],
      "metadata": {
        "colab": {
          "base_uri": "https://localhost:8080/"
        },
        "id": "oSZwNp_PdclR",
        "outputId": "bfa9564e-f86d-4425-9fd2-669cc724a883"
      },
      "execution_count": 3,
      "outputs": [
        {
          "output_type": "execute_result",
          "data": {
            "text/plain": [
              "8"
            ]
          },
          "metadata": {},
          "execution_count": 3
        }
      ]
    },
    {
      "cell_type": "code",
      "source": [
        "def pow(x):\n",
        "    def func(n):\n",
        "        return x ** n\n",
        "    return 10\n",
        "\n",
        "# is this an HOF? NO"
      ],
      "metadata": {
        "id": "gVsy5QJPdcn4"
      },
      "execution_count": null,
      "outputs": []
    },
    {
      "cell_type": "code",
      "source": [],
      "metadata": {
        "id": "mdQE5gGwdcqN"
      },
      "execution_count": null,
      "outputs": []
    },
    {
      "cell_type": "code",
      "source": [],
      "metadata": {
        "id": "Hse9XinZdcs0"
      },
      "execution_count": null,
      "outputs": []
    },
    {
      "cell_type": "code",
      "source": [],
      "metadata": {
        "id": "DOcuIl_QdcvO"
      },
      "execution_count": null,
      "outputs": []
    },
    {
      "cell_type": "code",
      "source": [],
      "metadata": {
        "id": "DGBfk3H0dcyC"
      },
      "execution_count": null,
      "outputs": []
    },
    {
      "cell_type": "code",
      "source": [],
      "metadata": {
        "id": "kWqhwO9Bdc0o"
      },
      "execution_count": null,
      "outputs": []
    },
    {
      "cell_type": "code",
      "source": [],
      "metadata": {
        "id": "-lBFzDYldc3v"
      },
      "execution_count": null,
      "outputs": []
    },
    {
      "cell_type": "code",
      "source": [
        "def func_div(a,b):\n",
        "try:\n",
        "    if b==0:\n",
        "        raise ZeroDivisionError(\"b is zero\")\n",
        "\n",
        "print(a/b)\n",
        "    except ZeroDivisionError as ze:# deafult must always be last except block otherwise will get failure\n",
        "print(\"this gets excecption when b is zero\",str(ze)) a=3\n",
        "b=0\n",
        "func_div(a,b)"
      ],
      "metadata": {
        "id": "yv8ekufSYziq"
      },
      "execution_count": null,
      "outputs": []
    },
    {
      "cell_type": "code",
      "source": [],
      "metadata": {
        "colab": {
          "base_uri": "https://localhost:8080/",
          "height": 124
        },
        "id": "pXrbwv7lZaZc",
        "outputId": "3177f81b-57f0-4637-dfc2-021127b2259e"
      },
      "execution_count": null,
      "outputs": [
        {
          "output_type": "error",
          "ename": "SyntaxError",
          "evalue": "invalid decimal literal (<ipython-input-1-d874881b39ca>, line 2)",
          "traceback": [
            "\u001b[0;36m  File \u001b[0;32m\"<ipython-input-1-d874881b39ca>\"\u001b[0;36m, line \u001b[0;32m2\u001b[0m\n\u001b[0;31m    result = lambda x: list(map(lambda y:2y, x)) if isinstance(x,list) else lambda x:3x\u001b[0m\n\u001b[0m                                         ^\u001b[0m\n\u001b[0;31mSyntaxError\u001b[0m\u001b[0;31m:\u001b[0m invalid decimal literal\n"
          ]
        }
      ]
    },
    {
      "cell_type": "code",
      "source": [
        "a = [1,[2,3],4,5]\n",
        "result = lambda x: list(map(lambda y:2*y, x)) if isinstance(x, list) else lambda x: 3*x\n",
        "print(result(a))"
      ],
      "metadata": {
        "colab": {
          "base_uri": "https://localhost:8080/"
        },
        "id": "UVE-mmQbZ32T",
        "outputId": "ec93e753-c23d-4ade-9ab7-8639d0928cce"
      },
      "execution_count": null,
      "outputs": [
        {
          "output_type": "stream",
          "name": "stdout",
          "text": [
            "[2, [2, 3, 2, 3], 8, 10]\n"
          ]
        }
      ]
    },
    {
      "cell_type": "code",
      "source": [
        "\n",
        "# result : lambda x: some logic\n",
        "# some_logic: list(map(lambda y:2*y, x)) if isinstance(x, list) else lambda x: 3*x\n",
        "\n",
        "\n",
        "# if input is list: list(map(lambda y:2*y, x))"
      ],
      "metadata": {
        "id": "lupxTX_DZtNT"
      },
      "execution_count": null,
      "outputs": []
    },
    {
      "cell_type": "code",
      "source": [
        "1* 2"
      ],
      "metadata": {
        "colab": {
          "base_uri": "https://localhost:8080/"
        },
        "id": "eHLKEBfnajIG",
        "outputId": "9b51d93b-041d-4205-8ab0-dc5bbd91a908"
      },
      "execution_count": null,
      "outputs": [
        {
          "output_type": "execute_result",
          "data": {
            "text/plain": [
              "2"
            ]
          },
          "metadata": {},
          "execution_count": 6
        }
      ]
    },
    {
      "cell_type": "code",
      "source": [
        "[2,3] * 2"
      ],
      "metadata": {
        "colab": {
          "base_uri": "https://localhost:8080/"
        },
        "id": "Y8UKWWPwatkk",
        "outputId": "82cf54f3-7b32-44d9-f79a-2cd1f815a24c"
      },
      "execution_count": null,
      "outputs": [
        {
          "output_type": "execute_result",
          "data": {
            "text/plain": [
              "[2, 3, 2, 3]"
            ]
          },
          "metadata": {},
          "execution_count": 7
        }
      ]
    },
    {
      "cell_type": "markdown",
      "source": [],
      "metadata": {
        "id": "Ow5OyN3laivI"
      }
    },
    {
      "cell_type": "code",
      "source": [
        "a =10\n",
        "result = lambda x: list(map(lambda y:2*y, x)) if isinstance(x, list) else lambda x: 3*x\n",
        "print(result(a)(10))"
      ],
      "metadata": {
        "colab": {
          "base_uri": "https://localhost:8080/"
        },
        "id": "Q6CVu6TGaiAb",
        "outputId": "0da5d6f8-90c5-4af6-a302-ec93e44fe10e"
      },
      "execution_count": null,
      "outputs": [
        {
          "output_type": "stream",
          "name": "stdout",
          "text": [
            "30\n"
          ]
        }
      ]
    },
    {
      "cell_type": "code",
      "source": [
        "class A:\n",
        "    def __init__(self,type1): self.type1=type1\n",
        "\n",
        "class B(A):\n",
        "    def __init__(self,type1):\n",
        "        self.type1=type1+\"B\"\n",
        "\n",
        "class C(B):\n",
        "    def __init__(self,type1):\n",
        "        self.type1=type1+\"C\"\n",
        "\n",
        "class D(A):\n",
        "    def __init__(self,type1):\n",
        "        self.type1=type1+\"D\"\n",
        "\n",
        "class E(C, D):\n",
        "    def __init__(self,type1):\n",
        "        super().__init__(type1)\n",
        "\n",
        "\n",
        "e = E(\"hybrid\")\n",
        "# e.type1 when all the classes have the same attribute defined then show should we call the grand-grand parent"
      ],
      "metadata": {
        "id": "2d8i9AmSa2Lf"
      },
      "execution_count": null,
      "outputs": []
    }
  ]
}