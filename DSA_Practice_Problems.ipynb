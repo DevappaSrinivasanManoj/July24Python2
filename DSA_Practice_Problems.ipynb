{
  "nbformat": 4,
  "nbformat_minor": 0,
  "metadata": {
    "colab": {
      "provenance": []
    },
    "kernelspec": {
      "name": "python3",
      "display_name": "Python 3"
    },
    "language_info": {
      "name": "python"
    }
  },
  "cells": [
    {
      "cell_type": "markdown",
      "source": [
        "https://www.geeksforgeeks.org/problems/largest-element-in-array4009/1"
      ],
      "metadata": {
        "id": "YXl9WqnL_7ac"
      }
    },
    {
      "cell_type": "markdown",
      "source": [
        "https://www.geeksforgeeks.org/problems/second-largest3735/1"
      ],
      "metadata": {
        "id": "3FzDxGvK_8gV"
      }
    },
    {
      "cell_type": "markdown",
      "source": [
        "https://leetcode.com/problems/valid-palindrome/"
      ],
      "metadata": {
        "id": "KxEUGk9q9Yr5"
      }
    },
    {
      "cell_type": "markdown",
      "source": [
        "https://leetcode.com/problems/fibonacci-number/description/"
      ],
      "metadata": {
        "id": "VjMFC2rE-j8G"
      }
    },
    {
      "cell_type": "markdown",
      "source": [
        "https://leetcode.com/problems/frequency-of-the-most-frequent-element/description/"
      ],
      "metadata": {
        "id": "itKPO4Ho-4L7"
      }
    },
    {
      "cell_type": "markdown",
      "source": [
        "https://www.geeksforgeeks.org/problems/frequency-of-array-elements-1587115620/0"
      ],
      "metadata": {
        "id": "cbASjoJ-_mdd"
      }
    },
    {
      "cell_type": "markdown",
      "source": [
        "https://leetcode.com/problems/check-if-array-is-sorted-and-rotated/description/"
      ],
      "metadata": {
        "id": "QRXs-Oql_0T1"
      }
    },
    {
      "cell_type": "markdown",
      "source": [
        "https://leetcode.com/problems/remove-duplicates-from-sorted-array/description/"
      ],
      "metadata": {
        "id": "UUJt4dsIAGRD"
      }
    },
    {
      "cell_type": "markdown",
      "source": [
        "https://leetcode.com/problems/rotate-array/description/"
      ],
      "metadata": {
        "id": "cTv9gHcVAK1C"
      }
    },
    {
      "cell_type": "markdown",
      "source": [
        "https://leetcode.com/problems/move-zeroes/description/"
      ],
      "metadata": {
        "id": "lTXZwuApAVbv"
      }
    }
  ]
}