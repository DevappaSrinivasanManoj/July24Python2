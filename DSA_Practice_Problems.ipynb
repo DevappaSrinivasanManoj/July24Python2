{
  "nbformat": 4,
  "nbformat_minor": 0,
  "metadata": {
    "colab": {
      "provenance": []
    },
    "kernelspec": {
      "name": "python3",
      "display_name": "Python 3"
    },
    "language_info": {
      "name": "python"
    }
  },
  "cells": [
    {
      "cell_type": "markdown",
      "source": [
        "https://www.geeksforgeeks.org/problems/largest-element-in-array4009/1"
      ],
      "metadata": {
        "id": "YXl9WqnL_7ac"
      }
    },
    {
      "cell_type": "markdown",
      "source": [
        "https://www.geeksforgeeks.org/problems/second-largest3735/1"
      ],
      "metadata": {
        "id": "3FzDxGvK_8gV"
      }
    },
    {
      "cell_type": "markdown",
      "source": [
        "https://leetcode.com/problems/valid-palindrome/"
      ],
      "metadata": {
        "id": "KxEUGk9q9Yr5"
      }
    },
    {
      "cell_type": "markdown",
      "source": [
        "https://leetcode.com/problems/fibonacci-number/description/"
      ],
      "metadata": {
        "id": "VjMFC2rE-j8G"
      }
    },
    {
      "cell_type": "markdown",
      "source": [
        "https://leetcode.com/problems/frequency-of-the-most-frequent-element/description/"
      ],
      "metadata": {
        "id": "itKPO4Ho-4L7"
      }
    },
    {
      "cell_type": "markdown",
      "source": [
        "https://www.geeksforgeeks.org/problems/frequency-of-array-elements-1587115620/0"
      ],
      "metadata": {
        "id": "cbASjoJ-_mdd"
      }
    },
    {
      "cell_type": "markdown",
      "source": [
        "https://leetcode.com/problems/check-if-array-is-sorted-and-rotated/description/"
      ],
      "metadata": {
        "id": "QRXs-Oql_0T1"
      }
    },
    {
      "cell_type": "markdown",
      "source": [
        "https://leetcode.com/problems/remove-duplicates-from-sorted-array/description/"
      ],
      "metadata": {
        "id": "UUJt4dsIAGRD"
      }
    },
    {
      "cell_type": "markdown",
      "source": [
        "https://leetcode.com/problems/rotate-array/description/"
      ],
      "metadata": {
        "id": "cTv9gHcVAK1C"
      }
    },
    {
      "cell_type": "markdown",
      "source": [
        "https://leetcode.com/problems/move-zeroes/description/"
      ],
      "metadata": {
        "id": "lTXZwuApAVbv"
      }
    },
    {
      "cell_type": "markdown",
      "source": [
        "https://leetcode.com/problems/remove-duplicates-from-sorted-array/description/"
      ],
      "metadata": {
        "id": "Tn2BMBTlhG-O"
      }
    },
    {
      "cell_type": "markdown",
      "source": [
        "https://leetcode.com/problems/valid-parentheses/description/"
      ],
      "metadata": {
        "id": "nzYLIzrMhQFZ"
      }
    },
    {
      "cell_type": "markdown",
      "source": [
        "https://leetcode.com/problems/longest-common-prefix/description/"
      ],
      "metadata": {
        "id": "2sMO5gB9hY9Q"
      }
    },
    {
      "cell_type": "markdown",
      "source": [
        "https://leetcode.com/problems/length-of-last-word/description/"
      ],
      "metadata": {
        "id": "yMaCpVMGhsAB"
      }
    },
    {
      "cell_type": "markdown",
      "source": [
        "https://leetcode.com/problems/merge-two-sorted-lists/description/"
      ],
      "metadata": {
        "id": "HfoJL42dhdpd"
      }
    },
    {
      "cell_type": "markdown",
      "source": [
        "https://leetcode.com/problems/powx-n/description/"
      ],
      "metadata": {
        "id": "j8dETxaXhi94"
      }
    },
    {
      "cell_type": "markdown",
      "source": [
        "https://leetcode.com/problems/climbing-stairs/description/"
      ],
      "metadata": {
        "id": "OmgJoFKihx31"
      }
    },
    {
      "cell_type": "markdown",
      "source": [
        "https://leetcode.com/problems/pascals-triangle/description/"
      ],
      "metadata": {
        "id": "x5AAix19h89a"
      }
    },
    {
      "cell_type": "markdown",
      "source": [
        "https://leetcode.com/problems/single-number/description/"
      ],
      "metadata": {
        "id": "22gkiHUPiBmN"
      }
    },
    {
      "cell_type": "markdown",
      "source": [
        "https://leetcode.com/problems/lru-cache/description/"
      ],
      "metadata": {
        "id": "5L6RIJw5iFhp"
      }
    },
    {
      "cell_type": "markdown",
      "source": [
        "https://leetcode.com/problems/number-of-1-bits/description/"
      ],
      "metadata": {
        "id": "bTqhEb53iRlJ"
      }
    },
    {
      "cell_type": "markdown",
      "source": [
        "https://leetcode.com/problems/determine-whether-matrix-can-be-obtained-by-rotation/"
      ],
      "metadata": {
        "id": "BolJQcUZilq0"
      }
    },
    {
      "cell_type": "markdown",
      "source": [
        "https://leetcode.com/problems/rotate-image/description/"
      ],
      "metadata": {
        "id": "AVm_7665ilTl"
      }
    },
    {
      "cell_type": "markdown",
      "source": [
        "https://leetcode.com/problems/spiral-matrix/description/"
      ],
      "metadata": {
        "id": "LWVaWevmih-f"
      }
    },
    {
      "cell_type": "code",
      "source": [],
      "metadata": {
        "id": "ZJp6-_OFhLuW"
      },
      "execution_count": null,
      "outputs": []
    }
  ]
}