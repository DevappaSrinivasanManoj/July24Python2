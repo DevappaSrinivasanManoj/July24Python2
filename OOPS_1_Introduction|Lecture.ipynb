{
  "nbformat": 4,
  "nbformat_minor": 0,
  "metadata": {
    "colab": {
      "provenance": [],
      "authorship_tag": "ABX9TyOlJUHsliiIDZj28uUuKBCL",
      "include_colab_link": true
    },
    "kernelspec": {
      "name": "python3",
      "display_name": "Python 3"
    },
    "language_info": {
      "name": "python"
    }
  },
  "cells": [
    {
      "cell_type": "markdown",
      "metadata": {
        "id": "view-in-github",
        "colab_type": "text"
      },
      "source": [
        "<a href=\"https://colab.research.google.com/github/SachinScaler/July24Python2/blob/main/OOPS_1_Introduction%7CLecture.ipynb\" target=\"_parent\"><img src=\"https://colab.research.google.com/assets/colab-badge.svg\" alt=\"Open In Colab\"/></a>"
      ]
    },
    {
      "cell_type": "code",
      "execution_count": null,
      "metadata": {
        "colab": {
          "base_uri": "https://localhost:8080/"
        },
        "id": "Imo4khkl03jA",
        "outputId": "9bc0c366-be48-45c0-d804-87dd815cd1f5"
      },
      "outputs": [
        {
          "output_type": "execute_result",
          "data": {
            "text/plain": [
              "22"
            ]
          },
          "metadata": {},
          "execution_count": 6
        }
      ],
      "source": [
        "class Calculator:\n",
        "    name = \"Simple OOP based Calculator\"\n",
        "\n",
        "    def __init__(self, number1, number2):\n",
        "        self.number1 = number1\n",
        "        self.number2 = number2\n",
        "\n",
        "    def add(self):\n",
        "        return self.number1 + self.number2\n",
        "\n",
        "c1 = Calculator(10, 12)\n",
        "c1.add()"
      ]
    },
    {
      "cell_type": "code",
      "source": [
        "c1.__dict__"
      ],
      "metadata": {
        "colab": {
          "base_uri": "https://localhost:8080/"
        },
        "id": "UB43UJ2D1o71",
        "outputId": "7acb075c-5391-494e-da71-db723271edd2"
      },
      "execution_count": null,
      "outputs": [
        {
          "output_type": "execute_result",
          "data": {
            "text/plain": [
              "{'number1': 10, 'number2': 12}"
            ]
          },
          "metadata": {},
          "execution_count": 7
        }
      ]
    },
    {
      "cell_type": "code",
      "source": [
        "# behaviour\n",
        "def add(num1, num2):\n",
        "    return num1 + num2\n",
        "\n",
        "# data: properties\n",
        "a = 10\n",
        "b = 20"
      ],
      "metadata": {
        "id": "p1HHI0qH12Tx"
      },
      "execution_count": 3,
      "outputs": []
    },
    {
      "cell_type": "code",
      "source": [
        "add(a, b)"
      ],
      "metadata": {
        "colab": {
          "base_uri": "https://localhost:8080/"
        },
        "id": "CqrRAbxWUn02",
        "outputId": "e9226535-7abe-40aa-8deb-e5905658e2c8"
      },
      "execution_count": 4,
      "outputs": [
        {
          "output_type": "execute_result",
          "data": {
            "text/plain": [
              "30"
            ]
          },
          "metadata": {},
          "execution_count": 4
        }
      ]
    },
    {
      "cell_type": "markdown",
      "source": [
        "### How do we create an empty class and it's instances"
      ],
      "metadata": {
        "id": "FB74_UdvVjh6"
      }
    },
    {
      "cell_type": "code",
      "source": [
        "class Student:\n",
        "    pass"
      ],
      "metadata": {
        "id": "zjY4DiMpU2aw"
      },
      "execution_count": 6,
      "outputs": []
    },
    {
      "cell_type": "code",
      "source": [
        "#instance of a Class\n",
        "s1 = Student()"
      ],
      "metadata": {
        "id": "NNljcr9UVypT"
      },
      "execution_count": 7,
      "outputs": []
    },
    {
      "cell_type": "code",
      "source": [
        "class BankAccount:\n",
        "    pass\n",
        "\n",
        "# name of instance = ClassName()\n",
        "ba1 = BankAccount()\n",
        "\n",
        "ba2 = BankAccount()"
      ],
      "metadata": {
        "id": "QhSPkuIeWNyu"
      },
      "execution_count": 10,
      "outputs": []
    },
    {
      "cell_type": "markdown",
      "source": [
        "### isinstance"
      ],
      "metadata": {
        "id": "AsFFvkz5YKf2"
      }
    },
    {
      "cell_type": "code",
      "source": [
        "a = 10\n",
        "isinstance(a, int) # true or False"
      ],
      "metadata": {
        "colab": {
          "base_uri": "https://localhost:8080/"
        },
        "id": "P7NFKSetXQag",
        "outputId": "e6c5328c-e051-4daf-ad31-1ce99275fb35"
      },
      "execution_count": 14,
      "outputs": [
        {
          "output_type": "execute_result",
          "data": {
            "text/plain": [
              "True"
            ]
          },
          "metadata": {},
          "execution_count": 14
        }
      ]
    },
    {
      "cell_type": "code",
      "source": [
        "isinstance(a, str)"
      ],
      "metadata": {
        "colab": {
          "base_uri": "https://localhost:8080/"
        },
        "id": "ajxlOSCeZUki",
        "outputId": "684cea63-3187-4671-9196-15e939829e33"
      },
      "execution_count": 17,
      "outputs": [
        {
          "output_type": "execute_result",
          "data": {
            "text/plain": [
              "False"
            ]
          },
          "metadata": {},
          "execution_count": 17
        }
      ]
    },
    {
      "cell_type": "code",
      "source": [
        "a = 10\n",
        "print(type(a))"
      ],
      "metadata": {
        "colab": {
          "base_uri": "https://localhost:8080/"
        },
        "id": "x7tNCw1aYa4F",
        "outputId": "dfd4632a-21d1-4fda-d926-a5d9775785cc"
      },
      "execution_count": 13,
      "outputs": [
        {
          "output_type": "stream",
          "name": "stdout",
          "text": [
            "<class 'int'>\n"
          ]
        }
      ]
    },
    {
      "cell_type": "code",
      "source": [
        "a = []\n",
        "a = list()"
      ],
      "metadata": {
        "id": "KTmqcAMJYdNR"
      },
      "execution_count": 16,
      "outputs": []
    },
    {
      "cell_type": "code",
      "source": [
        "ba1\n",
        "s1"
      ],
      "metadata": {
        "id": "XEk2HuJ4ZMrr"
      },
      "execution_count": null,
      "outputs": []
    },
    {
      "cell_type": "code",
      "source": [
        "isinstance(ba1, BankAccount)"
      ],
      "metadata": {
        "colab": {
          "base_uri": "https://localhost:8080/"
        },
        "id": "hVmj8-1CZatw",
        "outputId": "a221ac3f-3dd6-43ca-e3ae-37f447ef832c"
      },
      "execution_count": 18,
      "outputs": [
        {
          "output_type": "execute_result",
          "data": {
            "text/plain": [
              "True"
            ]
          },
          "metadata": {},
          "execution_count": 18
        }
      ]
    },
    {
      "cell_type": "code",
      "source": [
        "isinstance(ba1, Student)"
      ],
      "metadata": {
        "colab": {
          "base_uri": "https://localhost:8080/"
        },
        "id": "jrFDh0cfZf0P",
        "outputId": "0660b58d-bc04-4332-b72c-b87e870c00ef"
      },
      "execution_count": 19,
      "outputs": [
        {
          "output_type": "execute_result",
          "data": {
            "text/plain": [
              "False"
            ]
          },
          "metadata": {},
          "execution_count": 19
        }
      ]
    },
    {
      "cell_type": "code",
      "source": [
        "isinstance(s1, Student)"
      ],
      "metadata": {
        "colab": {
          "base_uri": "https://localhost:8080/"
        },
        "id": "wen9Ja2uZjqs",
        "outputId": "bd6e46b8-d6f2-4105-f10c-941d55f5f3d1"
      },
      "execution_count": 20,
      "outputs": [
        {
          "output_type": "execute_result",
          "data": {
            "text/plain": [
              "True"
            ]
          },
          "metadata": {},
          "execution_count": 20
        }
      ]
    },
    {
      "cell_type": "markdown",
      "source": [
        "### Exploration Task"
      ],
      "metadata": {
        "id": "8xVg0ZHuZsmh"
      }
    },
    {
      "cell_type": "code",
      "source": [
        "isinstance(s1, object)"
      ],
      "metadata": {
        "colab": {
          "base_uri": "https://localhost:8080/"
        },
        "id": "LcLebfxtZlxu",
        "outputId": "470f226b-e153-4eaf-90b7-c8508176dbe2"
      },
      "execution_count": 21,
      "outputs": [
        {
          "output_type": "execute_result",
          "data": {
            "text/plain": [
              "True"
            ]
          },
          "metadata": {},
          "execution_count": 21
        }
      ]
    },
    {
      "cell_type": "code",
      "source": [
        "isinstance(a, object)"
      ],
      "metadata": {
        "colab": {
          "base_uri": "https://localhost:8080/"
        },
        "id": "IhcMOp1MZ1IZ",
        "outputId": "a695cce4-d4e5-446d-bbc1-c4b24acfb302"
      },
      "execution_count": 22,
      "outputs": [
        {
          "output_type": "execute_result",
          "data": {
            "text/plain": [
              "True"
            ]
          },
          "metadata": {},
          "execution_count": 22
        }
      ]
    },
    {
      "cell_type": "code",
      "source": [
        "isinstance([], object)"
      ],
      "metadata": {
        "colab": {
          "base_uri": "https://localhost:8080/"
        },
        "id": "tgCsVHUzZ3_a",
        "outputId": "ad3a29ff-5831-44ab-e318-a2cd9ca475a4"
      },
      "execution_count": 23,
      "outputs": [
        {
          "output_type": "execute_result",
          "data": {
            "text/plain": [
              "True"
            ]
          },
          "metadata": {},
          "execution_count": 23
        }
      ]
    },
    {
      "cell_type": "code",
      "source": [
        "isinstance(True, object)"
      ],
      "metadata": {
        "colab": {
          "base_uri": "https://localhost:8080/"
        },
        "id": "QGwsW8V3Z5R5",
        "outputId": "02b6491b-6e82-42e2-fcaf-8a0f591ae9b4"
      },
      "execution_count": 24,
      "outputs": [
        {
          "output_type": "execute_result",
          "data": {
            "text/plain": [
              "True"
            ]
          },
          "metadata": {},
          "execution_count": 24
        }
      ]
    },
    {
      "cell_type": "code",
      "source": [
        "isinstance(Student, object)"
      ],
      "metadata": {
        "colab": {
          "base_uri": "https://localhost:8080/"
        },
        "id": "pC__wPH5Z7St",
        "outputId": "be3ad4d1-6f29-4617-e509-6f5a93a6c0c6"
      },
      "execution_count": 25,
      "outputs": [
        {
          "output_type": "execute_result",
          "data": {
            "text/plain": [
              "True"
            ]
          },
          "metadata": {},
          "execution_count": 25
        }
      ]
    },
    {
      "cell_type": "markdown",
      "source": [
        "### With Data and Behaviour"
      ],
      "metadata": {
        "id": "NgmoBd-raupw"
      }
    },
    {
      "cell_type": "code",
      "source": [
        "class BankAccount:\n",
        "    pass\n",
        "\n",
        "# name of instance = ClassName()\n",
        "ba1 = BankAccount()\n",
        "\n",
        "ba2 = BankAccount()"
      ],
      "metadata": {
        "id": "tgr2CAENZ-wX"
      },
      "execution_count": null,
      "outputs": []
    },
    {
      "cell_type": "code",
      "source": [
        "ba1.deposit()"
      ],
      "metadata": {
        "id": "cpst_4yBcaaZ"
      },
      "execution_count": null,
      "outputs": []
    },
    {
      "cell_type": "markdown",
      "source": [
        "### class:\n",
        "- data/variables\n",
        "- functionalities/behaviour/methods"
      ],
      "metadata": {
        "id": "ON89CEwBkrEB"
      }
    },
    {
      "cell_type": "code",
      "source": [],
      "metadata": {
        "id": "uS3sbduFkz0A"
      },
      "execution_count": 26,
      "outputs": []
    },
    {
      "cell_type": "code",
      "source": [
        "###\n",
        "str1 = \"Helllo\"\n",
        "str1.count('l')"
      ],
      "metadata": {
        "colab": {
          "base_uri": "https://localhost:8080/"
        },
        "id": "5BjjypZJlEGZ",
        "outputId": "486f72ac-ea7d-4eea-db5d-117692fb9410"
      },
      "execution_count": 27,
      "outputs": [
        {
          "output_type": "execute_result",
          "data": {
            "text/plain": [
              "3"
            ]
          },
          "metadata": {},
          "execution_count": 27
        }
      ]
    },
    {
      "cell_type": "code",
      "source": [
        "len(str1)"
      ],
      "metadata": {
        "colab": {
          "base_uri": "https://localhost:8080/"
        },
        "id": "1hR0INH3lhpf",
        "outputId": "0f560d06-cfed-492b-dae1-ea03684a52a4"
      },
      "execution_count": 28,
      "outputs": [
        {
          "output_type": "execute_result",
          "data": {
            "text/plain": [
              "6"
            ]
          },
          "metadata": {},
          "execution_count": 28
        }
      ]
    },
    {
      "cell_type": "code",
      "source": [
        "class BankAccount:\n",
        "    # methods\n",
        "    def bankName():\n",
        "        print(\"State Bank of India\")\n",
        "\n",
        "ba1 = BankAccount()\n",
        "\n",
        "ba1.bankName()# call a method defined inside a class"
      ],
      "metadata": {
        "colab": {
          "base_uri": "https://localhost:8080/",
          "height": 176
        },
        "id": "8FOwHhukllzS",
        "outputId": "61bfe265-83b2-4c76-c6e4-f3b1d7c457bd"
      },
      "execution_count": 29,
      "outputs": [
        {
          "output_type": "error",
          "ename": "TypeError",
          "evalue": "BankAccount.bankName() takes 0 positional arguments but 1 was given",
          "traceback": [
            "\u001b[0;31m---------------------------------------------------------------------------\u001b[0m",
            "\u001b[0;31mTypeError\u001b[0m                                 Traceback (most recent call last)",
            "\u001b[0;32m<ipython-input-29-9a5d1447a045>\u001b[0m in \u001b[0;36m<cell line: 8>\u001b[0;34m()\u001b[0m\n\u001b[1;32m      6\u001b[0m \u001b[0mba1\u001b[0m \u001b[0;34m=\u001b[0m \u001b[0mBankAccount\u001b[0m\u001b[0;34m(\u001b[0m\u001b[0;34m)\u001b[0m\u001b[0;34m\u001b[0m\u001b[0;34m\u001b[0m\u001b[0m\n\u001b[1;32m      7\u001b[0m \u001b[0;34m\u001b[0m\u001b[0m\n\u001b[0;32m----> 8\u001b[0;31m \u001b[0mba1\u001b[0m\u001b[0;34m.\u001b[0m\u001b[0mbankName\u001b[0m\u001b[0;34m(\u001b[0m\u001b[0;34m)\u001b[0m\u001b[0;31m# call a method defined inside a class\u001b[0m\u001b[0;34m\u001b[0m\u001b[0;34m\u001b[0m\u001b[0m\n\u001b[0m",
            "\u001b[0;31mTypeError\u001b[0m: BankAccount.bankName() takes 0 positional arguments but 1 was given"
          ]
        }
      ]
    },
    {
      "cell_type": "markdown",
      "source": [
        "### DO we even need instance to call Method?"
      ],
      "metadata": {
        "id": "TnQ4g-lEonCs"
      }
    },
    {
      "cell_type": "markdown",
      "source": [
        "### IMPORTANT\n",
        "- Every single method that needs to be executed using an instance must have atleast one Parameter.\n",
        "- This parameter stores the object itself."
      ],
      "metadata": {
        "id": "zChlk7qMmdLr"
      }
    },
    {
      "cell_type": "code",
      "source": [
        "class BankAccount:\n",
        "    # methods\n",
        "    def bankName(param1): # param1 stores the instance itself\n",
        "        print(\"State Bank of India\")\n",
        "\n",
        "ba1 = BankAccount()\n",
        "\n",
        "ba1.bankName()# call a method defined inside a class"
      ],
      "metadata": {
        "colab": {
          "base_uri": "https://localhost:8080/"
        },
        "id": "ILJE06bIl4_X",
        "outputId": "49ac2db2-a5ed-44c1-8a51-8ae82476922f"
      },
      "execution_count": 31,
      "outputs": [
        {
          "output_type": "stream",
          "name": "stdout",
          "text": [
            "State Bank of India\n"
          ]
        }
      ]
    },
    {
      "cell_type": "code",
      "source": [
        "class BankAccount:\n",
        "    # methods\n",
        "    def bankName(param1):\n",
        "        print(id(param1))\n",
        "\n",
        "        print(\"State Bank of India\")\n",
        "\n",
        "ba1 = BankAccount()\n",
        "print(id(ba1))"
      ],
      "metadata": {
        "colab": {
          "base_uri": "https://localhost:8080/"
        },
        "id": "qlYzWHxUm5bg",
        "outputId": "5c8a711a-cca3-4055-ec05-f5ee8214bc95"
      },
      "execution_count": 33,
      "outputs": [
        {
          "output_type": "stream",
          "name": "stdout",
          "text": [
            "137407804799584\n"
          ]
        }
      ]
    },
    {
      "cell_type": "code",
      "source": [
        "# method 1 of calling methods: Using Instance Variable: Popular\n",
        "ba1.bankName()"
      ],
      "metadata": {
        "colab": {
          "base_uri": "https://localhost:8080/"
        },
        "id": "blui7UpanRll",
        "outputId": "1975b25e-6253-4302-9507-503197a078b6"
      },
      "execution_count": 34,
      "outputs": [
        {
          "output_type": "stream",
          "name": "stdout",
          "text": [
            "137407804799584\n",
            "State Bank of India\n"
          ]
        }
      ]
    },
    {
      "cell_type": "code",
      "source": [
        "# method 2 of calling methods: Using Class Itself\n",
        "BankAccount.bankName(ba1) # ba1.bankName()"
      ],
      "metadata": {
        "id": "JJrP-OQKn2_Z"
      },
      "execution_count": null,
      "outputs": []
    },
    {
      "cell_type": "markdown",
      "source": [
        "### WHY?"
      ],
      "metadata": {
        "id": "iP0YvLXbnn3c"
      }
    },
    {
      "cell_type": "code",
      "source": [
        "class BankAccount:\n",
        "    # methods\n",
        "    def bankName(self):\n",
        "        print(id(self))\n",
        "        print(\"State Bank of India\")\n",
        "\n",
        "ba1 = BankAccount()\n",
        "ba2 = BankAccount()"
      ],
      "metadata": {
        "id": "v61rXf6JnhGF"
      },
      "execution_count": 37,
      "outputs": []
    },
    {
      "cell_type": "code",
      "source": [
        "ba1.bankName()"
      ],
      "metadata": {
        "colab": {
          "base_uri": "https://localhost:8080/"
        },
        "id": "TWsG7-J3pqdD",
        "outputId": "b03dad8f-2007-4585-c0b9-20eee9135e75"
      },
      "execution_count": 38,
      "outputs": [
        {
          "output_type": "stream",
          "name": "stdout",
          "text": [
            "137407804798240\n",
            "State Bank of India\n"
          ]
        }
      ]
    },
    {
      "cell_type": "code",
      "source": [
        "ba2.bankName()"
      ],
      "metadata": {
        "colab": {
          "base_uri": "https://localhost:8080/"
        },
        "id": "e0gS2UuhpuLo",
        "outputId": "f8ed8d27-6f9d-4c73-b38d-8d7f2a38d4b1"
      },
      "execution_count": 39,
      "outputs": [
        {
          "output_type": "stream",
          "name": "stdout",
          "text": [
            "137407804784848\n",
            "State Bank of India\n"
          ]
        }
      ]
    },
    {
      "cell_type": "code",
      "source": [
        "class BankAccount:\n",
        "    def __init__(self, acc_id, name, bankname , balance = 0):\n",
        "        self.acc_id = acc_id # take accId as input and store that inside self\n",
        "        self.name = name\n",
        "        self.bankname = bankname\n",
        "        self.balance = balance\n",
        "\n",
        "ba1 = BankAccount(100, \"Sachin Kaushik\", \"SBI\", 100)"
      ],
      "metadata": {
        "id": "B3YCwabnpvc_"
      },
      "execution_count": 41,
      "outputs": []
    },
    {
      "cell_type": "code",
      "source": [
        "ba2 = BankAccount(101, \"Jatin\", \"SBI\", 1000)"
      ],
      "metadata": {
        "id": "ZxuwdElht_5s"
      },
      "execution_count": 42,
      "outputs": []
    },
    {
      "cell_type": "code",
      "source": [
        "ba2 = BankAccount(101, \"Jatin\", \"SBI\")"
      ],
      "metadata": {
        "id": "2BCnvl_avGQL"
      },
      "execution_count": 46,
      "outputs": []
    },
    {
      "cell_type": "code",
      "source": [
        "ba1.__dict__# dislay all attributes belonging to instance as Dictionary"
      ],
      "metadata": {
        "colab": {
          "base_uri": "https://localhost:8080/"
        },
        "id": "mSt0iysRuUXe",
        "outputId": "69a31cb9-3006-41a5-b512-ecbfce9ffe23"
      },
      "execution_count": 43,
      "outputs": [
        {
          "output_type": "execute_result",
          "data": {
            "text/plain": [
              "{'acc_id': 100, 'name': 'Sachin Kaushik', 'bankname': 'SBI', 'balance': 100}"
            ]
          },
          "metadata": {},
          "execution_count": 43
        }
      ]
    },
    {
      "cell_type": "code",
      "source": [
        "ba2.__dict__"
      ],
      "metadata": {
        "colab": {
          "base_uri": "https://localhost:8080/"
        },
        "id": "VUIoogxlugVf",
        "outputId": "6613e9ec-221e-4751-f473-7091a22d15c6"
      },
      "execution_count": 44,
      "outputs": [
        {
          "output_type": "execute_result",
          "data": {
            "text/plain": [
              "{'acc_id': 101, 'name': 'Jatin', 'bankname': 'SBI', 'balance': 1000}"
            ]
          },
          "metadata": {},
          "execution_count": 44
        }
      ]
    },
    {
      "cell_type": "code",
      "source": [
        "print(ba1)"
      ],
      "metadata": {
        "colab": {
          "base_uri": "https://localhost:8080/"
        },
        "id": "2wSPERYbuh23",
        "outputId": "a497875c-47c6-47f5-c05e-e85c4d844336"
      },
      "execution_count": 45,
      "outputs": [
        {
          "output_type": "stream",
          "name": "stdout",
          "text": [
            "<__main__.BankAccount object at 0x7cf8bf5bbe80>\n"
          ]
        }
      ]
    },
    {
      "cell_type": "code",
      "source": [
        "class Student:\n",
        "    def __init__(self, name, age):\n",
        "        self.name = name\n",
        "        self.age = age\n",
        "\n",
        "    def hello(self):\n",
        "      print(f\"Hello {self.name}\")\n",
        "\n",
        "bipin = Student(\"Ayush\", 20)\n",
        "bipin.hello()"
      ],
      "metadata": {
        "id": "HTlOzV11urYX"
      },
      "execution_count": null,
      "outputs": []
    }
  ]
}