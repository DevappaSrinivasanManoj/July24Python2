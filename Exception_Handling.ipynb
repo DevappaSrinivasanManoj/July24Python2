{
  "nbformat": 4,
  "nbformat_minor": 0,
  "metadata": {
    "colab": {
      "provenance": [],
      "authorship_tag": "ABX9TyNOvZeFJqGCQwmHkw1ElGRs",
      "include_colab_link": true
    },
    "kernelspec": {
      "name": "python3",
      "display_name": "Python 3"
    },
    "language_info": {
      "name": "python"
    }
  },
  "cells": [
    {
      "cell_type": "markdown",
      "metadata": {
        "id": "view-in-github",
        "colab_type": "text"
      },
      "source": [
        "<a href=\"https://colab.research.google.com/github/SachinScaler/July24Python2/blob/main/Exception_Handling.ipynb\" target=\"_parent\"><img src=\"https://colab.research.google.com/assets/colab-badge.svg\" alt=\"Open In Colab\"/></a>"
      ]
    },
    {
      "cell_type": "code",
      "execution_count": 3,
      "metadata": {
        "colab": {
          "base_uri": "https://localhost:8080/"
        },
        "id": "hkFnucsq3XnD",
        "outputId": "e9160c83-4b5c-49b9-ffe3-036b52bb5fd8"
      },
      "outputs": [
        {
          "output_type": "stream",
          "name": "stdout",
          "text": [
            "Printing division of a by b\n",
            "0.75\n",
            "Successfully divided a by b\n"
          ]
        },
        {
          "output_type": "execute_result",
          "data": {
            "text/plain": [
              "7"
            ]
          },
          "metadata": {},
          "execution_count": 3
        }
      ],
      "source": [
        "def func_div(a, b):\n",
        "    print(\"Printing division of a by b\") # line 1\n",
        "    print(a/b)                           # line 2\n",
        "    print(\"Successfully divided a by b\") # line 3\n",
        "\n",
        "def add(a, b):\n",
        "    return a + b\n",
        "a = 3\n",
        "b = 4\n",
        "func_div(a, b)\n",
        "add(a, b)"
      ]
    },
    {
      "cell_type": "code",
      "source": [
        "a = 3\n",
        "b = 0\n",
        "func_div(a, b)\n",
        "add(a, b)"
      ],
      "metadata": {
        "colab": {
          "base_uri": "https://localhost:8080/",
          "height": 343
        },
        "id": "WI0AoOyW5lDt",
        "outputId": "06963e65-bbb6-4076-beda-60ab4085e8fd"
      },
      "execution_count": 5,
      "outputs": [
        {
          "output_type": "stream",
          "name": "stdout",
          "text": [
            "Printing division of a by b\n"
          ]
        },
        {
          "output_type": "error",
          "ename": "ZeroDivisionError",
          "evalue": "division by zero",
          "traceback": [
            "\u001b[0;31m---------------------------------------------------------------------------\u001b[0m",
            "\u001b[0;31mZeroDivisionError\u001b[0m                         Traceback (most recent call last)",
            "\u001b[0;32m<ipython-input-5-b92e2ce71efc>\u001b[0m in \u001b[0;36m<cell line: 3>\u001b[0;34m()\u001b[0m\n\u001b[1;32m      1\u001b[0m \u001b[0ma\u001b[0m \u001b[0;34m=\u001b[0m \u001b[0;36m3\u001b[0m\u001b[0;34m\u001b[0m\u001b[0;34m\u001b[0m\u001b[0m\n\u001b[1;32m      2\u001b[0m \u001b[0mb\u001b[0m \u001b[0;34m=\u001b[0m \u001b[0;36m0\u001b[0m\u001b[0;34m\u001b[0m\u001b[0;34m\u001b[0m\u001b[0m\n\u001b[0;32m----> 3\u001b[0;31m \u001b[0mfunc_div\u001b[0m\u001b[0;34m(\u001b[0m\u001b[0ma\u001b[0m\u001b[0;34m,\u001b[0m \u001b[0mb\u001b[0m\u001b[0;34m)\u001b[0m\u001b[0;34m\u001b[0m\u001b[0;34m\u001b[0m\u001b[0m\n\u001b[0m\u001b[1;32m      4\u001b[0m \u001b[0madd\u001b[0m\u001b[0;34m(\u001b[0m\u001b[0ma\u001b[0m\u001b[0;34m,\u001b[0m \u001b[0mb\u001b[0m\u001b[0;34m)\u001b[0m\u001b[0;34m\u001b[0m\u001b[0;34m\u001b[0m\u001b[0m\n",
            "\u001b[0;32m<ipython-input-3-64304d9904c4>\u001b[0m in \u001b[0;36mfunc_div\u001b[0;34m(a, b)\u001b[0m\n\u001b[1;32m      1\u001b[0m \u001b[0;32mdef\u001b[0m \u001b[0mfunc_div\u001b[0m\u001b[0;34m(\u001b[0m\u001b[0ma\u001b[0m\u001b[0;34m,\u001b[0m \u001b[0mb\u001b[0m\u001b[0;34m)\u001b[0m\u001b[0;34m:\u001b[0m\u001b[0;34m\u001b[0m\u001b[0;34m\u001b[0m\u001b[0m\n\u001b[1;32m      2\u001b[0m     \u001b[0mprint\u001b[0m\u001b[0;34m(\u001b[0m\u001b[0;34m\"Printing division of a by b\"\u001b[0m\u001b[0;34m)\u001b[0m \u001b[0;31m# line 1\u001b[0m\u001b[0;34m\u001b[0m\u001b[0;34m\u001b[0m\u001b[0m\n\u001b[0;32m----> 3\u001b[0;31m     \u001b[0mprint\u001b[0m\u001b[0;34m(\u001b[0m\u001b[0ma\u001b[0m\u001b[0;34m/\u001b[0m\u001b[0mb\u001b[0m\u001b[0;34m)\u001b[0m                           \u001b[0;31m# line 2\u001b[0m\u001b[0;34m\u001b[0m\u001b[0;34m\u001b[0m\u001b[0m\n\u001b[0m\u001b[1;32m      4\u001b[0m     \u001b[0mprint\u001b[0m\u001b[0;34m(\u001b[0m\u001b[0;34m\"Successfully divided a by b\"\u001b[0m\u001b[0;34m)\u001b[0m \u001b[0;31m# line 3\u001b[0m\u001b[0;34m\u001b[0m\u001b[0;34m\u001b[0m\u001b[0m\n\u001b[1;32m      5\u001b[0m \u001b[0;34m\u001b[0m\u001b[0m\n",
            "\u001b[0;31mZeroDivisionError\u001b[0m: division by zero"
          ]
        }
      ]
    },
    {
      "cell_type": "code",
      "source": [
        "a = 3\n",
        "b = 'a'\n",
        "func_div(a, b)"
      ],
      "metadata": {
        "id": "Qe7r-8dC5w0W"
      },
      "execution_count": null,
      "outputs": []
    },
    {
      "cell_type": "code",
      "source": [
        "1 + 'a'"
      ],
      "metadata": {
        "colab": {
          "base_uri": "https://localhost:8080/",
          "height": 158
        },
        "id": "Hra9Q2At6LKZ",
        "outputId": "edda5c88-3e68-44d7-b176-5a4607b4723c"
      },
      "execution_count": 8,
      "outputs": [
        {
          "output_type": "error",
          "ename": "TypeError",
          "evalue": "unsupported operand type(s) for +: 'int' and 'str'",
          "traceback": [
            "\u001b[0;31m---------------------------------------------------------------------------\u001b[0m",
            "\u001b[0;31mTypeError\u001b[0m                                 Traceback (most recent call last)",
            "\u001b[0;32m<ipython-input-8-abf63472aed8>\u001b[0m in \u001b[0;36m<cell line: 1>\u001b[0;34m()\u001b[0m\n\u001b[0;32m----> 1\u001b[0;31m \u001b[0;36m1\u001b[0m \u001b[0;34m+\u001b[0m \u001b[0;34m'a'\u001b[0m\u001b[0;34m\u001b[0m\u001b[0;34m\u001b[0m\u001b[0m\n\u001b[0m",
            "\u001b[0;31mTypeError\u001b[0m: unsupported operand type(s) for +: 'int' and 'str'"
          ]
        }
      ]
    },
    {
      "cell_type": "markdown",
      "source": [
        "Give one line summary of each of the above\n",
        "- ZeroDivisonError\n",
        "- NameError\n",
        "- ValueError\n",
        "- TypeError\n",
        "- IndexError\n",
        "- KeyError\n",
        "- SyntaxError\n",
        "- IndentationError"
      ],
      "metadata": {
        "id": "aAmq9N_a69c-"
      }
    },
    {
      "cell_type": "code",
      "source": [
        "def func_div(a, b):\n",
        "\n",
        "    print(\"Printing division of a by b\") # line 1\n",
        "    print(a/b)                           # line 2\n",
        "    print(\"Successfully divided a by b') # line 3\n",
        "func_div(10, 1)"
      ],
      "metadata": {
        "colab": {
          "base_uri": "https://localhost:8080/",
          "height": 124
        },
        "id": "Jfp2aCh-6MQl",
        "outputId": "6561c5d8-ef9d-472b-89db-9fb0e3fb227c"
      },
      "execution_count": 14,
      "outputs": [
        {
          "output_type": "error",
          "ename": "SyntaxError",
          "evalue": "unterminated string literal (detected at line 4) (<ipython-input-14-f87e7c9fad3b>, line 4)",
          "traceback": [
            "\u001b[0;36m  File \u001b[0;32m\"<ipython-input-14-f87e7c9fad3b>\"\u001b[0;36m, line \u001b[0;32m4\u001b[0m\n\u001b[0;31m    print(\"Successfully divided a by b') # line 3\u001b[0m\n\u001b[0m          ^\u001b[0m\n\u001b[0;31mSyntaxError\u001b[0m\u001b[0;31m:\u001b[0m unterminated string literal (detected at line 4)\n"
          ]
        }
      ]
    },
    {
      "cell_type": "markdown",
      "source": [
        "Try and Except"
      ],
      "metadata": {
        "id": "e8sDs-HE8sb9"
      }
    },
    {
      "cell_type": "code",
      "source": [
        "def func_div(a, b):\n",
        "    try:\n",
        "        print(\"Printing division of a by b\") # line 1\n",
        "        print(a/b)                           # line 2\n",
        "        print(\"Successfully divided a by b\") # line 3\n",
        "\n",
        "    except: # default: Must always be last except block othewise you get Error\n",
        "        print(\"Error Detected\") # line 4\n",
        "\n",
        "def add(a, b):\n",
        "    try:\n",
        "        return a + b # line 5\n",
        "\n",
        "    except Exception as e: # baseclass except block\n",
        "        print(\"Error Occured: \", str(e))\n",
        "\n",
        "\n",
        "\n",
        "a = 3\n",
        "b = 'sachin'\n",
        "func_div(a, b)\n",
        "add(a, b)"
      ],
      "metadata": {
        "colab": {
          "base_uri": "https://localhost:8080/"
        },
        "id": "6Lrnq8137WG5",
        "outputId": "a4d12637-225c-41bf-b89d-bcbeab652e21"
      },
      "execution_count": 22,
      "outputs": [
        {
          "output_type": "stream",
          "name": "stdout",
          "text": [
            "Printing division of a by b\n",
            "Error Detected\n",
            "Error Occured:  unsupported operand type(s) for +: 'int' and 'str'\n"
          ]
        }
      ]
    },
    {
      "cell_type": "code",
      "source": [
        "def func_div(a, b):\n",
        "    try:\n",
        "        print(\"Printing division of a by b\") # line 1\n",
        "        print(a/b)                           # line 2\n",
        "        print(\"Successfully divided a by b\") # line 3\n",
        "\n",
        "\n",
        "    except Exception as e: # this handles everything\n",
        "        print(\"Error Detected\", str(e)) # line 4\n",
        "        print(\"This gets executed when b is Zero\") # ZeroError Logic\n",
        "        print(\"This gets executed when b is Not A Number\") # TypeError Logic\n",
        "\n",
        "a = 3\n",
        "b = 0\n",
        "func_div(a, b)"
      ],
      "metadata": {
        "colab": {
          "base_uri": "https://localhost:8080/"
        },
        "id": "aKrgk2bd-02I",
        "outputId": "b1e6441b-8f4e-4a34-d9c2-f1d2564c05fb"
      },
      "execution_count": 32,
      "outputs": [
        {
          "output_type": "stream",
          "name": "stdout",
          "text": [
            "Printing division of a by b\n",
            "Error Detected division by zero\n",
            "This gets executed when b is Zero\n",
            "This gets executed when b is Not A Number\n"
          ]
        }
      ]
    },
    {
      "cell_type": "code",
      "source": [
        "a = 3\n",
        "b = \"Sachin\"\n",
        "func_div(a, b)"
      ],
      "metadata": {
        "colab": {
          "base_uri": "https://localhost:8080/"
        },
        "id": "lXAtQj-CBoas",
        "outputId": "036bdd0c-146b-4f9f-d107-a90622d8299f"
      },
      "execution_count": 33,
      "outputs": [
        {
          "output_type": "stream",
          "name": "stdout",
          "text": [
            "Printing division of a by b\n",
            "Error Detected unsupported operand type(s) for /: 'int' and 'str'\n",
            "This gets executed when b is Zero\n",
            "This gets executed when b is Not A Number\n"
          ]
        }
      ]
    },
    {
      "cell_type": "code",
      "source": [
        "1/0"
      ],
      "metadata": {
        "colab": {
          "base_uri": "https://localhost:8080/",
          "height": 158
        },
        "id": "MctQZXxiBsNB",
        "outputId": "56ee461b-7dd7-4ba2-bd58-6e6ac63fc667"
      },
      "execution_count": 34,
      "outputs": [
        {
          "output_type": "error",
          "ename": "ZeroDivisionError",
          "evalue": "division by zero",
          "traceback": [
            "\u001b[0;31m---------------------------------------------------------------------------\u001b[0m",
            "\u001b[0;31mZeroDivisionError\u001b[0m                         Traceback (most recent call last)",
            "\u001b[0;32m<ipython-input-34-9e1622b385b6>\u001b[0m in \u001b[0;36m<cell line: 1>\u001b[0;34m()\u001b[0m\n\u001b[0;32m----> 1\u001b[0;31m \u001b[0;36m1\u001b[0m\u001b[0;34m/\u001b[0m\u001b[0;36m0\u001b[0m\u001b[0;34m\u001b[0m\u001b[0;34m\u001b[0m\u001b[0m\n\u001b[0m",
            "\u001b[0;31mZeroDivisionError\u001b[0m: division by zero"
          ]
        }
      ]
    },
    {
      "cell_type": "code",
      "source": [
        "def func_div(a, b):\n",
        "    try:\n",
        "        print(\"Printing division of a by b\") # line 1\n",
        "        print(a/b)                           # line 2\n",
        "        print(\"Successfully divided a by b\") # line 3\n",
        "\n",
        "    except ZeroDivisionError as ze:\n",
        "        print(\"This gets executed when b is Zero\") # ZeroError Logic\n",
        "\n",
        "\n",
        "    except Exception as e: # this handles everything\n",
        "        print(\"Error Detected\", str(e)) # line 4\n",
        "        print(\"This gets executed when b is Not A Number\") # TypeError Logic\n",
        "\n",
        "a = 3\n",
        "b = 0\n",
        "func_div(a, b)"
      ],
      "metadata": {
        "colab": {
          "base_uri": "https://localhost:8080/"
        },
        "id": "EE_WRT7ICa4Z",
        "outputId": "ffcb353e-7570-402d-9bae-ad35fe32d291"
      },
      "execution_count": 35,
      "outputs": [
        {
          "output_type": "stream",
          "name": "stdout",
          "text": [
            "Printing division of a by b\n",
            "This gets executed when b is Zero\n"
          ]
        }
      ]
    },
    {
      "cell_type": "markdown",
      "source": [
        " Modify the above code to Handle Value and TypeError as well in seperate Exception blocks"
      ],
      "metadata": {
        "id": "IRIuwJ2LD0DA"
      }
    },
    {
      "cell_type": "code",
      "source": [
        "a = 3\n",
        "b = \"Sachin\"\n",
        "func_div(a, b)"
      ],
      "metadata": {
        "colab": {
          "base_uri": "https://localhost:8080/"
        },
        "id": "N3oaY30RCqgI",
        "outputId": "6d6dca95-bc35-4927-bd09-83a69cfeb827"
      },
      "execution_count": 36,
      "outputs": [
        {
          "output_type": "stream",
          "name": "stdout",
          "text": [
            "Printing division of a by b\n",
            "Error Detected unsupported operand type(s) for /: 'int' and 'str'\n",
            "This gets executed when b is Not A Number\n"
          ]
        }
      ]
    },
    {
      "cell_type": "code",
      "source": [
        "def func_div(a, b):\n",
        "    try:\n",
        "        print(\"Printing division of a by b\") # line 1\n",
        "        print(a/b)                           # line 2\n",
        "        print(\"Successfully divided a by b\") # line 3\n",
        "\n",
        "    # never do this as BaseException will handle all the errors and never goto other Execetion Blokcs\n",
        "    except Exception as e: # this handles everything\n",
        "        print(\"Error Detected\", str(e)) # line 4\n",
        "        print(\"This gets executed when b is Not A Number\") # TypeError Logic\n",
        "\n",
        "    except ZeroDivisionError as ze:\n",
        "        print(\"This gets executed when b is Zero\") # ZeroError Logic\n",
        "\n",
        "\n",
        "a = 3\n",
        "b = 0\n",
        "func_div(a, b)"
      ],
      "metadata": {
        "colab": {
          "base_uri": "https://localhost:8080/"
        },
        "id": "66apNjAWCuS5",
        "outputId": "5c2ff734-1781-418a-b359-cd47a70a619f"
      },
      "execution_count": 37,
      "outputs": [
        {
          "output_type": "stream",
          "name": "stdout",
          "text": [
            "Printing division of a by b\n",
            "Error Detected division by zero\n",
            "This gets executed when b is Not A Number\n"
          ]
        }
      ]
    },
    {
      "cell_type": "code",
      "source": [
        "def func_div(a, b):\n",
        "    try:\n",
        "        print(\"Printing division of a by b\") # line 1\n",
        "        print(a/b)                           # line 2\n",
        "        print(\"Successfully divided a by b\") # line 3\n",
        "\n",
        "    # never do this as BaseException will handle all the errors and never goto other Execetion Blokcs\n",
        "    except Exception as e: # this handles everything\n",
        "        print(\"Error Detected\", str(e)) # line 4\n",
        "        print(\"This gets executed when b is Not A Number\") # TypeError Logic\n",
        "\n",
        "    except ZeroDivisionError as ze:\n",
        "        print(\"This gets executed when b is Zero\") # ZeroError Logic\n",
        "\n",
        "\n",
        "a = 3\n",
        "b = 0\n",
        "func_div(a, b)"
      ],
      "metadata": {
        "colab": {
          "base_uri": "https://localhost:8080/",
          "height": 124
        },
        "id": "p9GA1zoKDYln",
        "outputId": "4dcc1dd4-32b4-4b8a-e093-33ff4c9275e3"
      },
      "execution_count": 38,
      "outputs": [
        {
          "output_type": "error",
          "ename": "SyntaxError",
          "evalue": "default 'except:' must be last (<ipython-input-38-6184bc8ad320>, line 8)",
          "traceback": [
            "\u001b[0;36m  File \u001b[0;32m\"<ipython-input-38-6184bc8ad320>\"\u001b[0;36m, line \u001b[0;32m8\u001b[0m\n\u001b[0;31m    except: # this handles everything\u001b[0m\n\u001b[0m    ^\u001b[0m\n\u001b[0;31mSyntaxError\u001b[0m\u001b[0;31m:\u001b[0m default 'except:' must be last\n"
          ]
        }
      ]
    },
    {
      "cell_type": "markdown",
      "source": [
        "### Also add Finally and Execute the code for arguments with and without errors"
      ],
      "metadata": {
        "id": "qwaLkLMqErlK"
      }
    },
    {
      "cell_type": "code",
      "source": [
        "try:\n",
        "    # do something\n",
        "\n",
        "except:\n",
        "    # do another thing\n",
        "\n",
        "finally:\n",
        "    # finally do this"
      ],
      "metadata": {
        "id": "9mzhBN2OEOCB"
      },
      "execution_count": null,
      "outputs": []
    },
    {
      "cell_type": "markdown",
      "source": [],
      "metadata": {
        "id": "FjRtYCWzIOr7"
      }
    },
    {
      "cell_type": "code",
      "source": [
        "def func_div(a, b):\n",
        "    try:\n",
        "        print(\"Printing division of a by b\") # line 1\n",
        "        print(a/b)                           # line 2\n",
        "        print(\"Successfully divided a by b\") # line 3\n",
        "        return 0\n",
        "\n",
        "    except ZeroDivisionError as ze:\n",
        "        print(\"This gets executed when b is Zero\") # ZeroError Logic\n",
        "\n",
        "\n",
        "    finally:\n",
        "        print(\"I will get execute in All Scenario\")\n",
        "a = 3\n",
        "b = \"b\"\n",
        "func_div(a, b)"
      ],
      "metadata": {
        "colab": {
          "base_uri": "https://localhost:8080/",
          "height": 343
        },
        "id": "_6b1uCjfIPYw",
        "outputId": "20c899fc-9211-40d5-e234-2124f8437156"
      },
      "execution_count": 47,
      "outputs": [
        {
          "output_type": "stream",
          "name": "stdout",
          "text": [
            "Printing division of a by b\n",
            "I will get execute in All Scenario\n"
          ]
        },
        {
          "output_type": "error",
          "ename": "TypeError",
          "evalue": "unsupported operand type(s) for /: 'int' and 'str'",
          "traceback": [
            "\u001b[0;31m---------------------------------------------------------------------------\u001b[0m",
            "\u001b[0;31mTypeError\u001b[0m                                 Traceback (most recent call last)",
            "\u001b[0;32m<ipython-input-47-ebc61f09386f>\u001b[0m in \u001b[0;36m<cell line: 16>\u001b[0;34m()\u001b[0m\n\u001b[1;32m     14\u001b[0m \u001b[0ma\u001b[0m \u001b[0;34m=\u001b[0m \u001b[0;36m3\u001b[0m\u001b[0;34m\u001b[0m\u001b[0;34m\u001b[0m\u001b[0m\n\u001b[1;32m     15\u001b[0m \u001b[0mb\u001b[0m \u001b[0;34m=\u001b[0m \u001b[0;34m\"b\"\u001b[0m\u001b[0;34m\u001b[0m\u001b[0;34m\u001b[0m\u001b[0m\n\u001b[0;32m---> 16\u001b[0;31m \u001b[0mfunc_div\u001b[0m\u001b[0;34m(\u001b[0m\u001b[0ma\u001b[0m\u001b[0;34m,\u001b[0m \u001b[0mb\u001b[0m\u001b[0;34m)\u001b[0m\u001b[0;34m\u001b[0m\u001b[0;34m\u001b[0m\u001b[0m\n\u001b[0m",
            "\u001b[0;32m<ipython-input-47-ebc61f09386f>\u001b[0m in \u001b[0;36mfunc_div\u001b[0;34m(a, b)\u001b[0m\n\u001b[1;32m      2\u001b[0m     \u001b[0;32mtry\u001b[0m\u001b[0;34m:\u001b[0m\u001b[0;34m\u001b[0m\u001b[0;34m\u001b[0m\u001b[0m\n\u001b[1;32m      3\u001b[0m         \u001b[0mprint\u001b[0m\u001b[0;34m(\u001b[0m\u001b[0;34m\"Printing division of a by b\"\u001b[0m\u001b[0;34m)\u001b[0m \u001b[0;31m# line 1\u001b[0m\u001b[0;34m\u001b[0m\u001b[0;34m\u001b[0m\u001b[0m\n\u001b[0;32m----> 4\u001b[0;31m         \u001b[0mprint\u001b[0m\u001b[0;34m(\u001b[0m\u001b[0ma\u001b[0m\u001b[0;34m/\u001b[0m\u001b[0mb\u001b[0m\u001b[0;34m)\u001b[0m                           \u001b[0;31m# line 2\u001b[0m\u001b[0;34m\u001b[0m\u001b[0;34m\u001b[0m\u001b[0m\n\u001b[0m\u001b[1;32m      5\u001b[0m         \u001b[0mprint\u001b[0m\u001b[0;34m(\u001b[0m\u001b[0;34m\"Successfully divided a by b\"\u001b[0m\u001b[0;34m)\u001b[0m \u001b[0;31m# line 3\u001b[0m\u001b[0;34m\u001b[0m\u001b[0;34m\u001b[0m\u001b[0m\n\u001b[1;32m      6\u001b[0m         \u001b[0;32mreturn\u001b[0m \u001b[0;36m0\u001b[0m\u001b[0;34m\u001b[0m\u001b[0;34m\u001b[0m\u001b[0m\n",
            "\u001b[0;31mTypeError\u001b[0m: unsupported operand type(s) for /: 'int' and 'str'"
          ]
        }
      ]
    },
    {
      "cell_type": "markdown",
      "source": [
        "### Homework"
      ],
      "metadata": {
        "id": "RK3IQg3cJgVU"
      }
    },
    {
      "cell_type": "code",
      "source": [
        "# Question: What will be the output of following code\n",
        "l1 = [2, 0, \"hello\", None]\n",
        "\n",
        "for e in l1:\n",
        "    try:\n",
        "        result = 5 / int(e)\n",
        "        print(\"N\")\n",
        "    except Exception as ex:\n",
        "        print(\"E\")\n",
        "    except ZeroDivisionError as z:\n",
        "        print(\"Z\")\n",
        "\n",
        "# follow up: what is wrong with above code and how can we fix that"
      ],
      "metadata": {
        "id": "HHDaaOU7Fvks"
      },
      "execution_count": null,
      "outputs": []
    },
    {
      "cell_type": "markdown",
      "source": [
        "### Two Topics\n",
        "- manually raising Exception\n",
        "- CustomException MEssage"
      ],
      "metadata": {
        "id": "D7Zdb9p2JUY_"
      }
    },
    {
      "cell_type": "code",
      "source": [
        "def func_div(a, b):\n",
        "    try:\n",
        "        if b == 0:\n",
        "            raise ZeroDivisionError(\"B is Zero\")\n",
        "        print(a/b)                           # line 1\n",
        "\n",
        "    except ZeroDivisionError as ze:\n",
        "        print(str(ze))\n",
        "\n",
        "a = 3\n",
        "b = 0\n",
        "func_div(a, b)"
      ],
      "metadata": {
        "colab": {
          "base_uri": "https://localhost:8080/"
        },
        "id": "2lbAr-BuJapb",
        "outputId": "0eac59d2-11d3-4b6a-9ef4-305b16323d83"
      },
      "execution_count": 53,
      "outputs": [
        {
          "output_type": "stream",
          "name": "stdout",
          "text": [
            "B is Zero\n"
          ]
        }
      ]
    },
    {
      "cell_type": "code",
      "source": [
        "raise ZeroDivisionError(\"Why are you doing this to me\")"
      ],
      "metadata": {
        "colab": {
          "base_uri": "https://localhost:8080/",
          "height": 158
        },
        "id": "ibSlpKXwJtVt",
        "outputId": "98a3a9fc-8d41-4c9b-af46-1b226b91ad15"
      },
      "execution_count": 50,
      "outputs": [
        {
          "output_type": "error",
          "ename": "ZeroDivisionError",
          "evalue": "Why are you doing this to me",
          "traceback": [
            "\u001b[0;31m---------------------------------------------------------------------------\u001b[0m",
            "\u001b[0;31mZeroDivisionError\u001b[0m                         Traceback (most recent call last)",
            "\u001b[0;32m<ipython-input-50-54b9551005a1>\u001b[0m in \u001b[0;36m<cell line: 1>\u001b[0;34m()\u001b[0m\n\u001b[0;32m----> 1\u001b[0;31m \u001b[0;32mraise\u001b[0m \u001b[0mZeroDivisionError\u001b[0m\u001b[0;34m(\u001b[0m\u001b[0;34m\"Why are you doing this to me\"\u001b[0m\u001b[0;34m)\u001b[0m\u001b[0;34m\u001b[0m\u001b[0;34m\u001b[0m\u001b[0m\n\u001b[0m",
            "\u001b[0;31mZeroDivisionError\u001b[0m: Why are you doing this to me"
          ]
        }
      ]
    },
    {
      "cell_type": "code",
      "source": [
        "class MyCustomException(Exception):\n",
        "    def __init__(self, message):\n",
        "        super().__init__(message)\n",
        "\n"
      ],
      "metadata": {
        "colab": {
          "base_uri": "https://localhost:8080/"
        },
        "id": "2p6bNLFRKB3X",
        "outputId": "673eb177-131b-4e28-ce26-f9c0aa8a131c"
      },
      "execution_count": 54,
      "outputs": [
        {
          "name": "stdout",
          "output_type": "stream",
          "text": [
            "Input Password: Must contain alphabet as well as numericabc\n"
          ]
        }
      ]
    },
    {
      "cell_type": "markdown",
      "source": [
        "### Homework:\n",
        "- every character must be either alohabet or numeric\n",
        "- minimum length 8\n",
        "- must contain atleast one alphabet and one numeric\n",
        "- Must contain one uppercase and one lowercase\n"
      ],
      "metadata": {
        "id": "PK4RERnNMLfh"
      }
    },
    {
      "cell_type": "code",
      "source": [
        "try:\n",
        "    pwd = input(\"Input Password: Must contain alphabet as well as numeric\")\n",
        "\n",
        "    # business logic and raise appropriate exception\n",
        "    raise MyCustomException(\"Unsuitable\")\n",
        "except MyCustomException as me:\n",
        "    print(str(me))"
      ],
      "metadata": {
        "colab": {
          "base_uri": "https://localhost:8080/"
        },
        "id": "B7fvYyKELl9U",
        "outputId": "5c790f17-ce48-4a2f-f150-743f6d168a53"
      },
      "execution_count": 57,
      "outputs": [
        {
          "output_type": "stream",
          "name": "stdout",
          "text": [
            "Input Password: Must contain alphabet as well as numeric34322\n",
            "Unsuitable\n"
          ]
        }
      ]
    },
    {
      "cell_type": "code",
      "source": [
        "try:\n",
        "    pwd = input(\"Input Password: Must contain alphabet as well as numeric\")\n",
        "\n",
        "    # business logic and raise appropriate exception\n",
        "    raise Exception(\"Unsuitable\")\n",
        "except Exception as me:\n",
        "    print(str(me))"
      ],
      "metadata": {
        "colab": {
          "base_uri": "https://localhost:8080/"
        },
        "id": "i9O1VGBRLoyG",
        "outputId": "78a838fc-31ac-4713-aec1-5e674c1a8769"
      },
      "execution_count": 58,
      "outputs": [
        {
          "output_type": "stream",
          "name": "stdout",
          "text": [
            "Input Password: Must contain alphabet as well as numeric213412\n",
            "Unsuitable\n"
          ]
        }
      ]
    },
    {
      "cell_type": "code",
      "source": [
        "\"A\".isupper()"
      ],
      "metadata": {
        "colab": {
          "base_uri": "https://localhost:8080/"
        },
        "id": "2SkWRENQM029",
        "outputId": "24ee51ab-68ee-4dbf-e20f-aa0812f4bdd0"
      },
      "execution_count": 59,
      "outputs": [
        {
          "output_type": "execute_result",
          "data": {
            "text/plain": [
              "True"
            ]
          },
          "metadata": {},
          "execution_count": 59
        }
      ]
    },
    {
      "cell_type": "code",
      "source": [
        "\"A\" in 'ABCDE'"
      ],
      "metadata": {
        "colab": {
          "base_uri": "https://localhost:8080/"
        },
        "id": "nhnwVUlrM_aX",
        "outputId": "c8c59e3b-a028-48c9-c7c2-38fe2a21dd0d"
      },
      "execution_count": 60,
      "outputs": [
        {
          "output_type": "execute_result",
          "data": {
            "text/plain": [
              "True"
            ]
          },
          "metadata": {},
          "execution_count": 60
        }
      ]
    },
    {
      "cell_type": "code",
      "source": [],
      "metadata": {
        "id": "CkphfdTJNExx"
      },
      "execution_count": null,
      "outputs": []
    }
  ]
}