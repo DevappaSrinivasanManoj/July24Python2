{
  "nbformat": 4,
  "nbformat_minor": 0,
  "metadata": {
    "colab": {
      "provenance": [],
      "authorship_tag": "ABX9TyPoChgCYxyoOlf1/bQBp3MA",
      "include_colab_link": true
    },
    "kernelspec": {
      "name": "python3",
      "display_name": "Python 3"
    },
    "language_info": {
      "name": "python"
    }
  },
  "cells": [
    {
      "cell_type": "markdown",
      "metadata": {
        "id": "view-in-github",
        "colab_type": "text"
      },
      "source": [
        "<a href=\"https://colab.research.google.com/github/SachinScaler/July24Python2/blob/main/Fundamental_Practice_Sheet.ipynb\" target=\"_parent\"><img src=\"https://colab.research.google.com/assets/colab-badge.svg\" alt=\"Open In Colab\"/></a>"
      ]
    },
    {
      "cell_type": "markdown",
      "source": [
        "## Question 1a: Scalar Multiplication of Lists\n",
        "\n",
        "Given a List of numbers, generate a new list with every number multiplied by 2\n",
        "```\n",
        "input:\n",
        "[1, 2, 3, 4, 5]\n",
        "\n",
        "output:\n",
        "[1, 4, 6, 8, 10]\n",
        "```"
      ],
      "metadata": {
        "id": "7qtD7vBDFMkC"
      }
    },
    {
      "cell_type": "markdown",
      "source": [
        "## Question 1b: Element-wise Multiplication of Lists\n",
        "\n",
        "**Q: Given two Lists of equal length, perform element-wise multiplication.**\n",
        "\n",
        "```\n",
        "input:\n",
        "list1 = [1, 2, 3, 4]\n",
        "list2 = [5, 6, 7, 8]\n",
        "\n",
        "output:\n",
        "[5, 12, 21, 32]\n",
        "```"
      ],
      "metadata": {
        "id": "HzWiAtU9HBPs"
      }
    },
    {
      "cell_type": "markdown",
      "source": [
        "## Question 2: Element-wise Arithmetic Operations\n",
        "\n",
        "**Q: Given two Lists of equal length, create a new list containing the element-wise sum of corresponding elements.**\n",
        "\n",
        "```\n",
        "input:\n",
        "list1 = [1, 2, 3, 4, 5]\n",
        "list2 = [6, 7, 8, 9, 10]\n",
        "\n",
        "output:\n",
        "[7, 9, 11, 13, 15]\n",
        "```\n",
        "\n",
        "## Question 3: Filtering Elements\n",
        "\n",
        "**Q: Given a List of numbers, create a new list containing only the even numbers.**\n",
        "\n",
        "```\n",
        "input:\n",
        "[1, 2, 3, 4, 5, 6, 7, 8, 9, 10]\n",
        "\n",
        "output:\n",
        "[2, 4, 6, 8, 10]\n",
        "```\n",
        "\n",
        "## Question 4: Finding Maximum and Minimum Values\n",
        "\n",
        "**Q: Given a List of numbers, find the maximum and minimum values in the list.**\n",
        "\n",
        "```\n",
        "input:\n",
        "[3, 7, 1, 9, 5]\n",
        "\n",
        "output:\n",
        "Maximum: 9\n",
        "Minimum: 1\n",
        "```\n",
        "\n",
        "## Question 5: Reshaping Data\n",
        "\n",
        "**Q: Given a List of numbers, reshape it into a 2D array with specified dimensions.**\n",
        "\n",
        "```\n",
        "input:\n",
        "[1, 2, 3, 4, 5, 6, 7, 8, 9]\n",
        "desired shape: (3, 3)\n",
        "\n",
        "output:\n",
        "[[1, 2, 3],\n",
        " [4, 5, 6],\n",
        " [7, 8, 9]]\n",
        "```\n"
      ],
      "metadata": {
        "id": "Hlv2FkZGF8GW"
      }
    },
    {
      "cell_type": "markdown",
      "source": [
        "## Question 6: Matrix Multiplication\n",
        "\n",
        "**Q: Given two Lists of numbers representing matrices, perform matrix multiplication.**\n",
        "\n",
        "```\n",
        "input:\n",
        "list1 = [[1, 2], [3, 4]]\n",
        "list2 = [[5, 6], [7, 8]]\n",
        "\n",
        "output:\n",
        "[[19, 22],\n",
        " [43, 50]]\n",
        "```\n",
        "\n",
        "## Question 7: Summation of Matrix Elements\n",
        "\n",
        "**Q: Given a List of numbers representing a matrix, calculate the sum of all elements**\n",
        "\n",
        "```\n",
        "input:\n",
        "list1 = [[1, 2, 3], [4, 5, 6]]\n",
        "\n",
        "output:\n",
        "21\n",
        "```\n",
        "\n",
        "\n"
      ],
      "metadata": {
        "id": "wHNdxfuvGePC"
      }
    },
    {
      "cell_type": "markdown",
      "source": [
        "## Question 8:\n",
        "\n",
        "**Q: Given a list of numbers and a list of indices, generate an output list with elements present at respective indices.**\n",
        "\n",
        "**Example:**\n",
        "\n",
        "```python\n",
        "numbers = [10, 20, 30, 40, 50]\n",
        "indices = [2, 0, 3, 1, 1]\n",
        "\n",
        "# Expected output: [30, 10, 40, 20, 20]\n",
        "```\n",
        "Notice that the output list is constructed using elements in indices list. For each index, the corresponding element from the numbers list is fetched.\n"
      ],
      "metadata": {
        "id": "RB4oVMAdII3R"
      }
    },
    {
      "cell_type": "code",
      "execution_count": null,
      "metadata": {
        "id": "KeBAhU-BFGb-"
      },
      "outputs": [],
      "source": []
    }
  ]
}